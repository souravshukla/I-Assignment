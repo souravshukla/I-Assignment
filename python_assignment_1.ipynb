{
  "nbformat": 4,
  "nbformat_minor": 0,
  "metadata": {
    "colab": {
      "name": "python assignment 1",
      "provenance": []
    },
    "kernelspec": {
      "name": "python3",
      "display_name": "Python 3"
    }
  },
  "cells": [
    {
      "cell_type": "markdown",
      "metadata": {
        "id": "4Ed7rpvTNSbT",
        "colab_type": "text"
      },
      "source": [
        "# Python Assignment 1"
      ]
    },
    {
      "cell_type": "markdown",
      "metadata": {
        "id": "lwlew3lbNRVb",
        "colab_type": "text"
      },
      "source": [
        "1. Write a program which will find all such numbers which are divisible by 7 but are not a multiple of 5, between 2000 and 3200 (both included). The numbers obtained should be printed\n",
        "in a comma-separated sequence on a single line."
      ]
    },
    {
      "cell_type": "code",
      "metadata": {
        "id": "5lRJ9yq2M-U6",
        "colab_type": "code",
        "colab": {
          "base_uri": "https://localhost:8080/",
          "height": 54
        },
        "outputId": "d7c2aaca-bb66-4843-89bb-4322de452b85"
      },
      "source": [
        "for i in range(2000, 3201):\n",
        "  if (i%7 == 0) and (i%5 != 0):\n",
        "    print(i, end = \",\")"
      ],
      "execution_count": null,
      "outputs": [
        {
          "output_type": "stream",
          "text": [
            "2002,2009,2016,2023,2037,2044,2051,2058,2072,2079,2086,2093,2107,2114,2121,2128,2142,2149,2156,2163,2177,2184,2191,2198,2212,2219,2226,2233,2247,2254,2261,2268,2282,2289,2296,2303,2317,2324,2331,2338,2352,2359,2366,2373,2387,2394,2401,2408,2422,2429,2436,2443,2457,2464,2471,2478,2492,2499,2506,2513,2527,2534,2541,2548,2562,2569,2576,2583,2597,2604,2611,2618,2632,2639,2646,2653,2667,2674,2681,2688,2702,2709,2716,2723,2737,2744,2751,2758,2772,2779,2786,2793,2807,2814,2821,2828,2842,2849,2856,2863,2877,2884,2891,2898,2912,2919,2926,2933,2947,2954,2961,2968,2982,2989,2996,3003,3017,3024,3031,3038,3052,3059,3066,3073,3087,3094,3101,3108,3122,3129,3136,3143,3157,3164,3171,3178,3192,3199,"
          ],
          "name": "stdout"
        }
      ]
    },
    {
      "cell_type": "markdown",
      "metadata": {
        "id": "gZaqbu1LW1ft",
        "colab_type": "text"
      },
      "source": [
        "2. Write a Python program to accept the user's first and last name and then getting them printed in the the reverse order with a space between first name and last name."
      ]
    },
    {
      "cell_type": "code",
      "metadata": {
        "id": "h-ECiNUHW2LV",
        "colab_type": "code",
        "colab": {
          "base_uri": "https://localhost:8080/",
          "height": 101
        },
        "outputId": "fe37bca0-1696-4fa7-a15d-c1e86f22b12a"
      },
      "source": [
        "print(\"Enter your First Name: \")\n",
        "a = input()\n",
        "print(\"Enter your Last Name: \")\n",
        "b = input()\n",
        "print(b[::-1], a[::-1])\n"
      ],
      "execution_count": null,
      "outputs": [
        {
          "output_type": "stream",
          "text": [
            "Enter your First Name: \n",
            "sourav\n",
            "Enter your Last Name: \n",
            "shukla\n",
            "alkuhs varuos\n"
          ],
          "name": "stdout"
        }
      ]
    },
    {
      "cell_type": "code",
      "metadata": {
        "id": "XIm3hFxgn7dD",
        "colab_type": "code",
        "colab": {
          "base_uri": "https://localhost:8080/",
          "height": 67
        },
        "outputId": "62bb127b-4e0f-437e-95b4-f1f459c7fcea"
      },
      "source": [
        "print(\"Enter your Name: \")\n",
        "a = input()\n",
        "print(a[::-1] )"
      ],
      "execution_count": null,
      "outputs": [
        {
          "output_type": "stream",
          "text": [
            "Enter your Name: \n",
            "tom cruise\n",
            "esiurc mot\n"
          ],
          "name": "stdout"
        }
      ]
    },
    {
      "cell_type": "markdown",
      "metadata": {
        "id": "X9jSQPAgW2oY",
        "colab_type": "text"
      },
      "source": [
        "3. Write a Python program to find the volume of a sphere with diameter 12 cm.\n",
        "Formula: V=4/3 * π * r 3"
      ]
    },
    {
      "cell_type": "code",
      "metadata": {
        "id": "pO3gMFIeW3Mo",
        "colab_type": "code",
        "colab": {
          "base_uri": "https://localhost:8080/",
          "height": 34
        },
        "outputId": "0432da39-fdb9-4766-a1da-3d3257e5661d"
      },
      "source": [
        "# Given: The diameter(in cm) = 12 \n",
        "\n",
        "import math\n",
        "\n",
        "d = 12\n",
        "volume = (4/3) * math.pi * (d/2)**3\n",
        "print(\"Volume of Sphere: \", volume)"
      ],
      "execution_count": null,
      "outputs": [
        {
          "output_type": "stream",
          "text": [
            "Volume of Sphere:  904.7786842338603\n"
          ],
          "name": "stdout"
        }
      ]
    }
  ]
}