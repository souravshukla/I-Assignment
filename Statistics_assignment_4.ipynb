{
 "cells": [
  {
   "cell_type": "markdown",
   "metadata": {},
   "source": [
    "### Problem Statement 1:"
   ]
  },
  {
   "cell_type": "markdown",
   "metadata": {},
   "source": [
    "Is gender independent of education level? A random sample of 395 people were\n",
    "surveyed and each person was asked to report the highest education level they\n",
    "obtained. The data that resulted from the survey is summarized in the following table:\n",
    "\n",
    "High School Bachelors Masters Ph.d. Total\n",
    "* Female 60 54 46 41 201\n",
    "* Male 40 44 53 57 194\n",
    "* Total 100 98 99 98 395\n",
    "\n",
    "**Question: Are gender and education level dependent at 5% level of significance? In\n",
    "other words, given the data collected above, is there a relationship between the\n",
    "gender of an individual and the level of education that they have obtained?**"
   ]
  },
  {
   "cell_type": "code",
   "execution_count": 1,
   "metadata": {},
   "outputs": [],
   "source": [
    "import numpy as np\n",
    "import pandas as pd\n",
    "from scipy import stats as st"
   ]
  },
  {
   "cell_type": "code",
   "execution_count": 2,
   "metadata": {},
   "outputs": [],
   "source": [
    "# H0: Gender and education are independent.\n",
    "# H1: Gender and education are dependent.\n",
    "\n",
    "# Level of significance = 0.05\n",
    "\n",
    "# Highest education level obtained by male and female is as follows:\n",
    "\n",
    "female_qual = [60, 54, 46, 41, 201]\n",
    "male_qual = [40, 44, 53, 57, 194]\n",
    "Total_qual = [100, 98, 99, 98, 395]\n",
    "\n",
    "sample_size = 395"
   ]
  },
  {
   "cell_type": "code",
   "execution_count": 3,
   "metadata": {},
   "outputs": [
    {
     "data": {
      "text/html": [
       "<div>\n",
       "<style scoped>\n",
       "    .dataframe tbody tr th:only-of-type {\n",
       "        vertical-align: middle;\n",
       "    }\n",
       "\n",
       "    .dataframe tbody tr th {\n",
       "        vertical-align: top;\n",
       "    }\n",
       "\n",
       "    .dataframe thead th {\n",
       "        text-align: right;\n",
       "    }\n",
       "</style>\n",
       "<table border=\"1\" class=\"dataframe\">\n",
       "  <thead>\n",
       "    <tr style=\"text-align: right;\">\n",
       "      <th></th>\n",
       "      <th>High_school</th>\n",
       "      <th>Bachelors</th>\n",
       "      <th>Masters</th>\n",
       "      <th>Ph.d</th>\n",
       "      <th>Total</th>\n",
       "    </tr>\n",
       "  </thead>\n",
       "  <tbody>\n",
       "    <tr>\n",
       "      <td>Female</td>\n",
       "      <td>60</td>\n",
       "      <td>54</td>\n",
       "      <td>46</td>\n",
       "      <td>41</td>\n",
       "      <td>201</td>\n",
       "    </tr>\n",
       "    <tr>\n",
       "      <td>Male</td>\n",
       "      <td>40</td>\n",
       "      <td>44</td>\n",
       "      <td>53</td>\n",
       "      <td>57</td>\n",
       "      <td>194</td>\n",
       "    </tr>\n",
       "    <tr>\n",
       "      <td>Total</td>\n",
       "      <td>100</td>\n",
       "      <td>98</td>\n",
       "      <td>99</td>\n",
       "      <td>98</td>\n",
       "      <td>395</td>\n",
       "    </tr>\n",
       "  </tbody>\n",
       "</table>\n",
       "</div>"
      ],
      "text/plain": [
       "        High_school  Bachelors  Masters  Ph.d  Total\n",
       "Female           60         54       46    41    201\n",
       "Male             40         44       53    57    194\n",
       "Total           100         98       99    98    395"
      ]
     },
     "execution_count": 3,
     "metadata": {},
     "output_type": "execute_result"
    }
   ],
   "source": [
    "data = pd.DataFrame([ female_qual, male_qual, Total_qual], columns = [\"High_school\", \"Bachelors\", \"Masters\", \"Ph.d\", \"Total\"], \n",
    "             index = [\"Female\", \"Male\", \"Total\"])\n",
    "data"
   ]
  },
  {
   "cell_type": "code",
   "execution_count": 4,
   "metadata": {},
   "outputs": [
    {
     "name": "stdout",
     "output_type": "stream",
     "text": [
      "The Degree of Freedom:  3\n",
      "The Chi-Square Value:  8.006066246262538\n",
      "\n",
      "The Expected Values: \n",
      " [[50.88607595 49.86835443 50.37721519 49.86835443]\n",
      " [49.11392405 48.13164557 48.62278481 48.13164557]]\n",
      "\n",
      "p-value:  0.045886500891747214\n"
     ]
    }
   ],
   "source": [
    "''' Here we have to perform chi_square_test, in order to find out if the two variable Gender and\n",
    "    education are independent or not. '''\n",
    "\n",
    "# Here first we have to select data only for two categories i.e. Gender and education.\n",
    "# So total column and rows are dropped.\n",
    "x = data[:2].drop(\"Total\", axis = 1)\n",
    "\n",
    "chi, p , dof, exp = st.chi2_contingency(x, correction=True, lambda_=None)\n",
    "\n",
    "print(\"The Degree of Freedom: \", dof)\n",
    "print(\"The Chi-Square Value: \", chi)\n",
    "print(\"\\nThe Expected Values: \\n\", exp)\n",
    "print(\"\\np-value: \", p)"
   ]
  },
  {
   "cell_type": "code",
   "execution_count": 5,
   "metadata": {},
   "outputs": [
    {
     "name": "stdout",
     "output_type": "stream",
     "text": [
      "critical_value: 7.814727903251179\n"
     ]
    }
   ],
   "source": [
    "from scipy.stats import chi2\n",
    "critical_value=chi2.ppf(q=1-0.05,df=3)\n",
    "print('critical_value:',critical_value)"
   ]
  },
  {
   "cell_type": "code",
   "execution_count": 6,
   "metadata": {},
   "outputs": [
    {
     "name": "stdout",
     "output_type": "stream",
     "text": [
      "Accept H1: It means that Gender and education are dependent. \n",
      "Accept H1: It means that Gender and education are dependent. \n"
     ]
    }
   ],
   "source": [
    "alpha = 0.05\n",
    "\n",
    "if chi >= critical_value:\n",
    "    print(\"Accept H1: It means that Gender and education are dependent. \")\n",
    "else:\n",
    "    print(\"Accept H0: Gender and education are independent\")\n",
    "        \n",
    "if p <= alpha:\n",
    "    print(\"Accept H1: It means that Gender and education are dependent. \")\n",
    "else:\n",
    "    print(\"Accept H0: Gender and education are independent\")"
   ]
  },
  {
   "cell_type": "markdown",
   "metadata": {},
   "source": [
    "### Problem Statement 2:"
   ]
  },
  {
   "cell_type": "markdown",
   "metadata": {},
   "source": [
    "Using the following data, perform a oneway analysis of variance using α=.05. Write\n",
    "up the results in APA format.\n",
    "\n",
    "* [Group1: 51, 45, 33, 45, 67]\n",
    "* [Group2: 23, 43, 23, 43, 45]\n",
    "* [Group3: 56, 76, 74, 87, 56]"
   ]
  },
  {
   "cell_type": "code",
   "execution_count": 7,
   "metadata": {},
   "outputs": [],
   "source": [
    "# Here we have to find the oneway analysis of variance using alpha = 0.05\n",
    "\n",
    "alpha = 0.05\n",
    "\n",
    "group1 = [51, 45, 33, 45, 67]\n",
    "group2 = [23, 43, 23, 43, 45]\n",
    "group3 = [56, 76, 74, 87, 56]"
   ]
  },
  {
   "cell_type": "markdown",
   "metadata": {},
   "source": [
    "#### Hypothesis\n",
    "---\n",
    "* H0: All population means are exactly same.\n",
    "* H1: All population are not same."
   ]
  },
  {
   "cell_type": "code",
   "execution_count": 8,
   "metadata": {},
   "outputs": [
    {
     "name": "stdout",
     "output_type": "stream",
     "text": [
      "Test statistics: 9.747205503009463\n",
      "F_critical: 3.8852938346523933\n"
     ]
    }
   ],
   "source": [
    "f_statistics, p = st.f_oneway(group1,group2,group3)\n",
    "f_critical = st.f.ppf(q = 1 - alpha, dfn = 2 , dfd = 12)\n",
    "print(\"Test statistics:\", f_statistics)\n",
    "print(\"F_critical:\", f_critical)"
   ]
  },
  {
   "cell_type": "code",
   "execution_count": 9,
   "metadata": {},
   "outputs": [
    {
     "name": "stdout",
     "output_type": "stream",
     "text": [
      "Reject Null Hypothesis H0\n"
     ]
    }
   ],
   "source": [
    "if f_statistics > f_critical:\n",
    "    print(\"Reject Null Hypothesis H0\")\n",
    "else:\n",
    "    print(\"Accept Null Hypothesis H0\")"
   ]
  },
  {
   "cell_type": "code",
   "execution_count": 10,
   "metadata": {},
   "outputs": [
    {
     "name": "stdout",
     "output_type": "stream",
     "text": [
      "APA: \n",
      "F_critical: 3.8852938346523933\n",
      "p: 0.0030597541434430556\n"
     ]
    }
   ],
   "source": [
    "print(\"APA:\", \"\\nF_critical:\", f_critical)\n",
    "print(\"p:\", p)"
   ]
  },
  {
   "cell_type": "markdown",
   "metadata": {},
   "source": [
    "### Problem Statement 3:"
   ]
  },
  {
   "cell_type": "markdown",
   "metadata": {},
   "source": [
    "Calculate F Test for given 10, 20, 30, 40, 50 and 5,10,15, 20, 25.\n",
    "\n",
    "For 10, 20, 30, 40, 50:"
   ]
  },
  {
   "cell_type": "code",
   "execution_count": 11,
   "metadata": {},
   "outputs": [],
   "source": [
    "sample1 = [10,20,30,40,50]\n",
    "sample2 = [5,10,15,20,25]"
   ]
  },
  {
   "cell_type": "code",
   "execution_count": 12,
   "metadata": {},
   "outputs": [
    {
     "data": {
      "text/plain": [
       "(250, 62.5)"
      ]
     },
     "execution_count": 12,
     "metadata": {},
     "output_type": "execute_result"
    }
   ],
   "source": [
    "import statistics as s\n",
    "s.variance(sample1), s.variance(sample2)"
   ]
  },
  {
   "cell_type": "code",
   "execution_count": 13,
   "metadata": {},
   "outputs": [
    {
     "name": "stdout",
     "output_type": "stream",
     "text": [
      "The f-test value is: 4.0\n"
     ]
    }
   ],
   "source": [
    "# to calculate f-test we have to find the ratio \n",
    "\n",
    "f_test = (s.variance(sample1)/ s.variance(sample2))\n",
    "print('The f-test value is:', f_test)"
   ]
  },
  {
   "cell_type": "code",
   "execution_count": null,
   "metadata": {},
   "outputs": [],
   "source": []
  }
 ],
 "metadata": {
  "kernelspec": {
   "display_name": "Python 3",
   "language": "python",
   "name": "python3"
  },
  "language_info": {
   "codemirror_mode": {
    "name": "ipython",
    "version": 3
   },
   "file_extension": ".py",
   "mimetype": "text/x-python",
   "name": "python",
   "nbconvert_exporter": "python",
   "pygments_lexer": "ipython3",
   "version": "3.7.4"
  }
 },
 "nbformat": 4,
 "nbformat_minor": 2
}
