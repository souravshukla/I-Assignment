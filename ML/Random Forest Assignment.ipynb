{
 "cells": [
  {
   "cell_type": "markdown",
   "metadata": {},
   "source": [
    "### Assignment\n",
    "In this assignment students will build the random forest model after\n",
    "normalizing the variable to house pricing from boston data set."
   ]
  },
  {
   "cell_type": "code",
   "execution_count": 1,
   "metadata": {},
   "outputs": [],
   "source": [
    "#Following the code to get data into the environment:\n",
    "\n",
    "import numpy as np\n",
    "import pandas as pd\n",
    "import matplotlib.pyplot as plt\n",
    "import seaborn as sns\n",
    "%matplotlib inline\n",
    "\n",
    "from sklearn.model_selection import train_test_split \n",
    "from sklearn.preprocessing import StandardScaler \n",
    "from sklearn import datasets "
   ]
  },
  {
   "cell_type": "code",
   "execution_count": 2,
   "metadata": {},
   "outputs": [],
   "source": [
    "boston = datasets.load_boston()\n",
    "features = pd.DataFrame(boston.data, columns=boston.feature_names)\n",
    "targets = boston.target"
   ]
  },
  {
   "cell_type": "code",
   "execution_count": 4,
   "metadata": {},
   "outputs": [
    {
     "data": {
      "text/html": [
       "<div>\n",
       "<style scoped>\n",
       "    .dataframe tbody tr th:only-of-type {\n",
       "        vertical-align: middle;\n",
       "    }\n",
       "\n",
       "    .dataframe tbody tr th {\n",
       "        vertical-align: top;\n",
       "    }\n",
       "\n",
       "    .dataframe thead th {\n",
       "        text-align: right;\n",
       "    }\n",
       "</style>\n",
       "<table border=\"1\" class=\"dataframe\">\n",
       "  <thead>\n",
       "    <tr style=\"text-align: right;\">\n",
       "      <th></th>\n",
       "      <th>CRIM</th>\n",
       "      <th>ZN</th>\n",
       "      <th>INDUS</th>\n",
       "      <th>CHAS</th>\n",
       "      <th>NOX</th>\n",
       "      <th>RM</th>\n",
       "      <th>AGE</th>\n",
       "      <th>DIS</th>\n",
       "      <th>RAD</th>\n",
       "      <th>TAX</th>\n",
       "      <th>PTRATIO</th>\n",
       "      <th>B</th>\n",
       "      <th>LSTAT</th>\n",
       "    </tr>\n",
       "  </thead>\n",
       "  <tbody>\n",
       "    <tr>\n",
       "      <th>0</th>\n",
       "      <td>0.00632</td>\n",
       "      <td>18.0</td>\n",
       "      <td>2.31</td>\n",
       "      <td>0.0</td>\n",
       "      <td>0.538</td>\n",
       "      <td>6.575</td>\n",
       "      <td>65.2</td>\n",
       "      <td>4.0900</td>\n",
       "      <td>1.0</td>\n",
       "      <td>296.0</td>\n",
       "      <td>15.3</td>\n",
       "      <td>396.90</td>\n",
       "      <td>4.98</td>\n",
       "    </tr>\n",
       "    <tr>\n",
       "      <th>1</th>\n",
       "      <td>0.02731</td>\n",
       "      <td>0.0</td>\n",
       "      <td>7.07</td>\n",
       "      <td>0.0</td>\n",
       "      <td>0.469</td>\n",
       "      <td>6.421</td>\n",
       "      <td>78.9</td>\n",
       "      <td>4.9671</td>\n",
       "      <td>2.0</td>\n",
       "      <td>242.0</td>\n",
       "      <td>17.8</td>\n",
       "      <td>396.90</td>\n",
       "      <td>9.14</td>\n",
       "    </tr>\n",
       "    <tr>\n",
       "      <th>2</th>\n",
       "      <td>0.02729</td>\n",
       "      <td>0.0</td>\n",
       "      <td>7.07</td>\n",
       "      <td>0.0</td>\n",
       "      <td>0.469</td>\n",
       "      <td>7.185</td>\n",
       "      <td>61.1</td>\n",
       "      <td>4.9671</td>\n",
       "      <td>2.0</td>\n",
       "      <td>242.0</td>\n",
       "      <td>17.8</td>\n",
       "      <td>392.83</td>\n",
       "      <td>4.03</td>\n",
       "    </tr>\n",
       "    <tr>\n",
       "      <th>3</th>\n",
       "      <td>0.03237</td>\n",
       "      <td>0.0</td>\n",
       "      <td>2.18</td>\n",
       "      <td>0.0</td>\n",
       "      <td>0.458</td>\n",
       "      <td>6.998</td>\n",
       "      <td>45.8</td>\n",
       "      <td>6.0622</td>\n",
       "      <td>3.0</td>\n",
       "      <td>222.0</td>\n",
       "      <td>18.7</td>\n",
       "      <td>394.63</td>\n",
       "      <td>2.94</td>\n",
       "    </tr>\n",
       "    <tr>\n",
       "      <th>4</th>\n",
       "      <td>0.06905</td>\n",
       "      <td>0.0</td>\n",
       "      <td>2.18</td>\n",
       "      <td>0.0</td>\n",
       "      <td>0.458</td>\n",
       "      <td>7.147</td>\n",
       "      <td>54.2</td>\n",
       "      <td>6.0622</td>\n",
       "      <td>3.0</td>\n",
       "      <td>222.0</td>\n",
       "      <td>18.7</td>\n",
       "      <td>396.90</td>\n",
       "      <td>5.33</td>\n",
       "    </tr>\n",
       "  </tbody>\n",
       "</table>\n",
       "</div>"
      ],
      "text/plain": [
       "      CRIM    ZN  INDUS  CHAS    NOX     RM   AGE     DIS  RAD    TAX  \\\n",
       "0  0.00632  18.0   2.31   0.0  0.538  6.575  65.2  4.0900  1.0  296.0   \n",
       "1  0.02731   0.0   7.07   0.0  0.469  6.421  78.9  4.9671  2.0  242.0   \n",
       "2  0.02729   0.0   7.07   0.0  0.469  7.185  61.1  4.9671  2.0  242.0   \n",
       "3  0.03237   0.0   2.18   0.0  0.458  6.998  45.8  6.0622  3.0  222.0   \n",
       "4  0.06905   0.0   2.18   0.0  0.458  7.147  54.2  6.0622  3.0  222.0   \n",
       "\n",
       "   PTRATIO       B  LSTAT  \n",
       "0     15.3  396.90   4.98  \n",
       "1     17.8  396.90   9.14  \n",
       "2     17.8  392.83   4.03  \n",
       "3     18.7  394.63   2.94  \n",
       "4     18.7  396.90   5.33  "
      ]
     },
     "execution_count": 4,
     "metadata": {},
     "output_type": "execute_result"
    }
   ],
   "source": [
    "features.head()"
   ]
  },
  {
   "cell_type": "code",
   "execution_count": 6,
   "metadata": {},
   "outputs": [],
   "source": [
    "X_train,X_test, y_train,y_test = train_test_split(features,targets, test_size = 0.25,random_state = 42)"
   ]
  },
  {
   "cell_type": "code",
   "execution_count": 33,
   "metadata": {},
   "outputs": [],
   "source": [
    "scaler = StandardScaler()\n",
    "scaled_X_train = scaler.fit_transform(X_train,y_train)"
   ]
  },
  {
   "cell_type": "code",
   "execution_count": 21,
   "metadata": {},
   "outputs": [],
   "source": [
    "from sklearn.ensemble import RandomForestRegressor"
   ]
  },
  {
   "cell_type": "code",
   "execution_count": 34,
   "metadata": {},
   "outputs": [
    {
     "data": {
      "text/plain": [
       "RandomForestRegressor(bootstrap=True, ccp_alpha=0.0, criterion='mse',\n",
       "                      max_depth=None, max_features='auto', max_leaf_nodes=None,\n",
       "                      max_samples=None, min_impurity_decrease=0.0,\n",
       "                      min_impurity_split=None, min_samples_leaf=1,\n",
       "                      min_samples_split=2, min_weight_fraction_leaf=0.0,\n",
       "                      n_estimators=100, n_jobs=None, oob_score=False,\n",
       "                      random_state=None, verbose=0, warm_start=False)"
      ]
     },
     "execution_count": 34,
     "metadata": {},
     "output_type": "execute_result"
    }
   ],
   "source": [
    "rf_reg = RandomForestRegressor(n_estimators = 100)\n",
    "rf_reg.fit(scaled_X_train, y_train)"
   ]
  },
  {
   "cell_type": "code",
   "execution_count": 35,
   "metadata": {},
   "outputs": [],
   "source": [
    "scaled_X_test = scaler.transform(X_test)\n",
    "y_pred = rf_reg.predict(scaled_X_test)"
   ]
  },
  {
   "cell_type": "code",
   "execution_count": 36,
   "metadata": {},
   "outputs": [
    {
     "data": {
      "text/plain": [
       "(2.119944881889764, 10.47336196062992, 0.8504385383425717)"
      ]
     },
     "execution_count": 36,
     "metadata": {},
     "output_type": "execute_result"
    }
   ],
   "source": [
    "from sklearn.metrics import r2_score,mean_absolute_error, mean_squared_error\n",
    "\n",
    "r = r2_score(y_test,y_pred)\n",
    "mae =mean_absolute_error(y_test,y_pred)\n",
    "mse = mean_squared_error(y_test,y_pred)\n",
    "mae,mse,r"
   ]
  },
  {
   "cell_type": "code",
   "execution_count": 70,
   "metadata": {},
   "outputs": [
    {
     "data": {
      "text/plain": [
       "0.8504385383425717"
      ]
     },
     "execution_count": 70,
     "metadata": {},
     "output_type": "execute_result"
    }
   ],
   "source": [
    "rf_reg.score(scaled_X_test,y_test)"
   ]
  },
  {
   "cell_type": "code",
   "execution_count": 92,
   "metadata": {},
   "outputs": [],
   "source": [
    "score = []\n",
    "for i in [10,20,30,40,50,60,70,80,90,100]:\n",
    "    rf_reg = RandomForestRegressor(n_estimators = i)\n",
    "    rf_reg.fit(scaled_X_train, y_train)\n",
    "    score.append(rf_reg.score(scaled_X_test,y_test))"
   ]
  },
  {
   "cell_type": "code",
   "execution_count": 95,
   "metadata": {},
   "outputs": [
    {
     "data": {
      "text/plain": [
       "[<matplotlib.lines.Line2D at 0x1853317c160>]"
      ]
     },
     "execution_count": 95,
     "metadata": {},
     "output_type": "execute_result"
    },
    {
     "data": {
      "image/png": "[encoded data removed]",
      "text/plain": [
       "<Figure size 432x288 with 1 Axes>"
      ]
     },
     "metadata": {
      "needs_background": "light"
     },
     "output_type": "display_data"
    }
   ],
   "source": [
    "plt.plot([10,20,30,40,50,60,70,80,90,100],score)"
   ]
  },
  {
   "cell_type": "code",
   "execution_count": 96,
   "metadata": {},
   "outputs": [
    {
     "data": {
      "text/plain": [
       "[0.8067324792260567,\n",
       " 0.8318446875599286,\n",
       " 0.8509089498710022,\n",
       " 0.8512107712643513,\n",
       " 0.8468260189090827,\n",
       " 0.8600238112587184,\n",
       " 0.8330697220479976,\n",
       " 0.8460754804995325,\n",
       " 0.8521070936393971,\n",
       " 0.8571412508413253]"
      ]
     },
     "execution_count": 96,
     "metadata": {},
     "output_type": "execute_result"
    }
   ],
   "source": [
    "score"
   ]
  },
  {
   "cell_type": "code",
   "execution_count": 99,
   "metadata": {},
   "outputs": [],
   "source": [
    "from sklearn.model_selection import RandomizedSearchCV"
   ]
  },
  {
   "cell_type": "code",
   "execution_count": 196,
   "metadata": {},
   "outputs": [
    {
     "name": "stdout",
     "output_type": "stream",
     "text": [
      "Fitting 5 folds for each of 10 candidates, totalling 50 fits\n",
      "[CV] n_estimators=100, min_samples_split=9, min_samples_leaf=6, max_features=log2, max_depth=12 \n"
     ]
    },
    {
     "name": "stderr",
     "output_type": "stream",
     "text": [
      "[Parallel(n_jobs=1)]: Using backend SequentialBackend with 1 concurrent workers.\n"
     ]
    },
    {
     "name": "stdout",
     "output_type": "stream",
     "text": [
      "[CV]  n_estimators=100, min_samples_split=9, min_samples_leaf=6, max_features=log2, max_depth=12, total=   0.3s\n",
      "[CV] n_estimators=100, min_samples_split=9, min_samples_leaf=6, max_features=log2, max_depth=12 \n",
      "[CV]  n_estimators=100, min_samples_split=9, min_samples_leaf=6, max_features=log2, max_depth=12, total=   0.1s\n",
      "[CV] n_estimators=100, min_samples_split=9, min_samples_leaf=6, max_features=log2, max_depth=12 \n"
     ]
    },
    {
     "name": "stderr",
     "output_type": "stream",
     "text": [
      "[Parallel(n_jobs=1)]: Done   1 out of   1 | elapsed:    0.2s remaining:    0.0s\n"
     ]
    },
    {
     "name": "stdout",
     "output_type": "stream",
     "text": [
      "[CV]  n_estimators=100, min_samples_split=9, min_samples_leaf=6, max_features=log2, max_depth=12, total=   0.2s\n",
      "[CV] n_estimators=100, min_samples_split=9, min_samples_leaf=6, max_features=log2, max_depth=12 \n",
      "[CV]  n_estimators=100, min_samples_split=9, min_samples_leaf=6, max_features=log2, max_depth=12, total=   0.1s\n",
      "[CV] n_estimators=100, min_samples_split=9, min_samples_leaf=6, max_features=log2, max_depth=12 \n",
      "[CV]  n_estimators=100, min_samples_split=9, min_samples_leaf=6, max_features=log2, max_depth=12, total=   0.2s\n",
      "[CV] n_estimators=120, min_samples_split=4, min_samples_leaf=5, max_features=sqrt, max_depth=15 \n",
      "[CV]  n_estimators=120, min_samples_split=4, min_samples_leaf=5, max_features=sqrt, max_depth=15, total=   0.2s\n",
      "[CV] n_estimators=120, min_samples_split=4, min_samples_leaf=5, max_features=sqrt, max_depth=15 \n",
      "[CV]  n_estimators=120, min_samples_split=4, min_samples_leaf=5, max_features=sqrt, max_depth=15, total=   0.2s\n",
      "[CV] n_estimators=120, min_samples_split=4, min_samples_leaf=5, max_features=sqrt, max_depth=15 \n",
      "[CV]  n_estimators=120, min_samples_split=4, min_samples_leaf=5, max_features=sqrt, max_depth=15, total=   0.2s\n",
      "[CV] n_estimators=120, min_samples_split=4, min_samples_leaf=5, max_features=sqrt, max_depth=15 \n",
      "[CV]  n_estimators=120, min_samples_split=4, min_samples_leaf=5, max_features=sqrt, max_depth=15, total=   0.4s\n",
      "[CV] n_estimators=120, min_samples_split=4, min_samples_leaf=5, max_features=sqrt, max_depth=15 \n",
      "[CV]  n_estimators=120, min_samples_split=4, min_samples_leaf=5, max_features=sqrt, max_depth=15, total=   0.2s\n",
      "[CV] n_estimators=10, min_samples_split=4, min_samples_leaf=2, max_features=log2, max_depth=5 \n",
      "[CV]  n_estimators=10, min_samples_split=4, min_samples_leaf=2, max_features=log2, max_depth=5, total=   0.0s\n",
      "[CV] n_estimators=10, min_samples_split=4, min_samples_leaf=2, max_features=log2, max_depth=5 \n",
      "[CV]  n_estimators=10, min_samples_split=4, min_samples_leaf=2, max_features=log2, max_depth=5, total=   0.0s\n",
      "[CV] n_estimators=10, min_samples_split=4, min_samples_leaf=2, max_features=log2, max_depth=5 \n",
      "[CV]  n_estimators=10, min_samples_split=4, min_samples_leaf=2, max_features=log2, max_depth=5, total=   0.0s\n",
      "[CV] n_estimators=10, min_samples_split=4, min_samples_leaf=2, max_features=log2, max_depth=5 \n",
      "[CV]  n_estimators=10, min_samples_split=4, min_samples_leaf=2, max_features=log2, max_depth=5, total=   0.0s\n",
      "[CV] n_estimators=10, min_samples_split=4, min_samples_leaf=2, max_features=log2, max_depth=5 \n",
      "[CV]  n_estimators=10, min_samples_split=4, min_samples_leaf=2, max_features=log2, max_depth=5, total=   0.0s\n",
      "[CV] n_estimators=60, min_samples_split=4, min_samples_leaf=2, max_features=auto, max_depth=15 \n",
      "[CV]  n_estimators=60, min_samples_split=4, min_samples_leaf=2, max_features=auto, max_depth=15, total=   0.2s\n",
      "[CV] n_estimators=60, min_samples_split=4, min_samples_leaf=2, max_features=auto, max_depth=15 \n",
      "[CV]  n_estimators=60, min_samples_split=4, min_samples_leaf=2, max_features=auto, max_depth=15, total=   0.1s\n",
      "[CV] n_estimators=60, min_samples_split=4, min_samples_leaf=2, max_features=auto, max_depth=15 \n",
      "[CV]  n_estimators=60, min_samples_split=4, min_samples_leaf=2, max_features=auto, max_depth=15, total=   0.2s\n",
      "[CV] n_estimators=60, min_samples_split=4, min_samples_leaf=2, max_features=auto, max_depth=15 \n",
      "[CV]  n_estimators=60, min_samples_split=4, min_samples_leaf=2, max_features=auto, max_depth=15, total=   0.3s\n",
      "[CV] n_estimators=60, min_samples_split=4, min_samples_leaf=2, max_features=auto, max_depth=15 \n",
      "[CV]  n_estimators=60, min_samples_split=4, min_samples_leaf=2, max_features=auto, max_depth=15, total=   0.2s\n",
      "[CV] n_estimators=80, min_samples_split=8, min_samples_leaf=4, max_features=auto, max_depth=20 \n",
      "[CV]  n_estimators=80, min_samples_split=8, min_samples_leaf=4, max_features=auto, max_depth=20, total=   0.4s\n",
      "[CV] n_estimators=80, min_samples_split=8, min_samples_leaf=4, max_features=auto, max_depth=20 \n",
      "[CV]  n_estimators=80, min_samples_split=8, min_samples_leaf=4, max_features=auto, max_depth=20, total=   0.2s\n",
      "[CV] n_estimators=80, min_samples_split=8, min_samples_leaf=4, max_features=auto, max_depth=20 \n",
      "[CV]  n_estimators=80, min_samples_split=8, min_samples_leaf=4, max_features=auto, max_depth=20, total=   0.3s\n",
      "[CV] n_estimators=80, min_samples_split=8, min_samples_leaf=4, max_features=auto, max_depth=20 \n",
      "[CV]  n_estimators=80, min_samples_split=8, min_samples_leaf=4, max_features=auto, max_depth=20, total=   0.2s\n",
      "[CV] n_estimators=80, min_samples_split=8, min_samples_leaf=4, max_features=auto, max_depth=20 \n",
      "[CV]  n_estimators=80, min_samples_split=8, min_samples_leaf=4, max_features=auto, max_depth=20, total=   0.2s\n",
      "[CV] n_estimators=100, min_samples_split=4, min_samples_leaf=4, max_features=log2, max_depth=20 \n",
      "[CV]  n_estimators=100, min_samples_split=4, min_samples_leaf=4, max_features=log2, max_depth=20, total=   0.2s\n",
      "[CV] n_estimators=100, min_samples_split=4, min_samples_leaf=4, max_features=log2, max_depth=20 \n",
      "[CV]  n_estimators=100, min_samples_split=4, min_samples_leaf=4, max_features=log2, max_depth=20, total=   0.2s\n",
      "[CV] n_estimators=100, min_samples_split=4, min_samples_leaf=4, max_features=log2, max_depth=20 \n",
      "[CV]  n_estimators=100, min_samples_split=4, min_samples_leaf=4, max_features=log2, max_depth=20, total=   0.2s\n",
      "[CV] n_estimators=100, min_samples_split=4, min_samples_leaf=4, max_features=log2, max_depth=20 \n",
      "[CV]  n_estimators=100, min_samples_split=4, min_samples_leaf=4, max_features=log2, max_depth=20, total=   0.2s\n",
      "[CV] n_estimators=100, min_samples_split=4, min_samples_leaf=4, max_features=log2, max_depth=20 \n",
      "[CV]  n_estimators=100, min_samples_split=4, min_samples_leaf=4, max_features=log2, max_depth=20, total=   0.2s\n",
      "[CV] n_estimators=10, min_samples_split=2, min_samples_leaf=2, max_features=auto, max_depth=None \n",
      "[CV]  n_estimators=10, min_samples_split=2, min_samples_leaf=2, max_features=auto, max_depth=None, total=   0.1s\n",
      "[CV] n_estimators=10, min_samples_split=2, min_samples_leaf=2, max_features=auto, max_depth=None \n",
      "[CV]  n_estimators=10, min_samples_split=2, min_samples_leaf=2, max_features=auto, max_depth=None, total=   0.1s\n",
      "[CV] n_estimators=10, min_samples_split=2, min_samples_leaf=2, max_features=auto, max_depth=None \n",
      "[CV]  n_estimators=10, min_samples_split=2, min_samples_leaf=2, max_features=auto, max_depth=None, total=   0.1s\n",
      "[CV] n_estimators=10, min_samples_split=2, min_samples_leaf=2, max_features=auto, max_depth=None \n",
      "[CV]  n_estimators=10, min_samples_split=2, min_samples_leaf=2, max_features=auto, max_depth=None, total=   0.1s\n",
      "[CV] n_estimators=10, min_samples_split=2, min_samples_leaf=2, max_features=auto, max_depth=None \n",
      "[CV]  n_estimators=10, min_samples_split=2, min_samples_leaf=2, max_features=auto, max_depth=None, total=   0.1s\n",
      "[CV] n_estimators=80, min_samples_split=4, min_samples_leaf=5, max_features=auto, max_depth=None \n",
      "[CV]  n_estimators=80, min_samples_split=4, min_samples_leaf=5, max_features=auto, max_depth=None, total=   0.2s\n",
      "[CV] n_estimators=80, min_samples_split=4, min_samples_leaf=5, max_features=auto, max_depth=None \n",
      "[CV]  n_estimators=80, min_samples_split=4, min_samples_leaf=5, max_features=auto, max_depth=None, total=   0.2s\n",
      "[CV] n_estimators=80, min_samples_split=4, min_samples_leaf=5, max_features=auto, max_depth=None \n",
      "[CV]  n_estimators=80, min_samples_split=4, min_samples_leaf=5, max_features=auto, max_depth=None, total=   0.2s\n",
      "[CV] n_estimators=80, min_samples_split=4, min_samples_leaf=5, max_features=auto, max_depth=None \n",
      "[CV]  n_estimators=80, min_samples_split=4, min_samples_leaf=5, max_features=auto, max_depth=None, total=   0.2s\n",
      "[CV] n_estimators=80, min_samples_split=4, min_samples_leaf=5, max_features=auto, max_depth=None \n",
      "[CV]  n_estimators=80, min_samples_split=4, min_samples_leaf=5, max_features=auto, max_depth=None, total=   0.2s\n",
      "[CV] n_estimators=80, min_samples_split=9, min_samples_leaf=1, max_features=auto, max_depth=None \n",
      "[CV]  n_estimators=80, min_samples_split=9, min_samples_leaf=1, max_features=auto, max_depth=None, total=   0.2s\n",
      "[CV] n_estimators=80, min_samples_split=9, min_samples_leaf=1, max_features=auto, max_depth=None \n",
      "[CV]  n_estimators=80, min_samples_split=9, min_samples_leaf=1, max_features=auto, max_depth=None, total=   0.2s\n",
      "[CV] n_estimators=80, min_samples_split=9, min_samples_leaf=1, max_features=auto, max_depth=None \n",
      "[CV]  n_estimators=80, min_samples_split=9, min_samples_leaf=1, max_features=auto, max_depth=None, total=   0.2s\n",
      "[CV] n_estimators=80, min_samples_split=9, min_samples_leaf=1, max_features=auto, max_depth=None \n"
     ]
    },
    {
     "name": "stdout",
     "output_type": "stream",
     "text": [
      "[CV]  n_estimators=80, min_samples_split=9, min_samples_leaf=1, max_features=auto, max_depth=None, total=   0.2s\n",
      "[CV] n_estimators=80, min_samples_split=9, min_samples_leaf=1, max_features=auto, max_depth=None \n",
      "[CV]  n_estimators=80, min_samples_split=9, min_samples_leaf=1, max_features=auto, max_depth=None, total=   0.2s\n",
      "[CV] n_estimators=10, min_samples_split=4, min_samples_leaf=5, max_features=sqrt, max_depth=12 \n",
      "[CV]  n_estimators=10, min_samples_split=4, min_samples_leaf=5, max_features=sqrt, max_depth=12, total=   0.0s\n",
      "[CV] n_estimators=10, min_samples_split=4, min_samples_leaf=5, max_features=sqrt, max_depth=12 \n",
      "[CV]  n_estimators=10, min_samples_split=4, min_samples_leaf=5, max_features=sqrt, max_depth=12, total=   0.0s\n",
      "[CV] n_estimators=10, min_samples_split=4, min_samples_leaf=5, max_features=sqrt, max_depth=12 \n",
      "[CV]  n_estimators=10, min_samples_split=4, min_samples_leaf=5, max_features=sqrt, max_depth=12, total=   0.0s\n",
      "[CV] n_estimators=10, min_samples_split=4, min_samples_leaf=5, max_features=sqrt, max_depth=12 \n",
      "[CV]  n_estimators=10, min_samples_split=4, min_samples_leaf=5, max_features=sqrt, max_depth=12, total=   0.0s\n",
      "[CV] n_estimators=10, min_samples_split=4, min_samples_leaf=5, max_features=sqrt, max_depth=12 \n",
      "[CV]  n_estimators=10, min_samples_split=4, min_samples_leaf=5, max_features=sqrt, max_depth=12, total=   0.0s\n"
     ]
    },
    {
     "name": "stderr",
     "output_type": "stream",
     "text": [
      "[Parallel(n_jobs=1)]: Done  50 out of  50 | elapsed:    7.3s finished\n"
     ]
    }
   ],
   "source": [
    "grid = { \"n_estimators\": [10,60,80,100,120],\n",
    "         \"max_depth\": [None,5,10,12,15,20],\n",
    "         \"max_features\":[\"auto\", \"sqrt\",\"log2\"],\n",
    "         \"min_samples_split\":[2,4,6,7,8,9],\n",
    "         \"min_samples_leaf\":[1,2,3,4,5,6] }\n",
    "\n",
    "\n",
    "\n",
    "rs_clf = RandomizedSearchCV( estimator =rf_reg, \n",
    "                             param_distributions =grid, \n",
    "                             n_iter=10, \n",
    "                             cv=5, verbose =2)\n",
    "\n",
    "rs_clf.fit(scaled_X_train,y_train);"
   ]
  },
  {
   "cell_type": "code",
   "execution_count": 197,
   "metadata": {},
   "outputs": [
    {
     "data": {
      "text/plain": [
       "{'n_estimators': 80,\n",
       " 'min_samples_split': 9,\n",
       " 'min_samples_leaf': 1,\n",
       " 'max_features': 'auto',\n",
       " 'max_depth': None}"
      ]
     },
     "execution_count": 197,
     "metadata": {},
     "output_type": "execute_result"
    }
   ],
   "source": [
    "rs_clf.best_params_"
   ]
  },
  {
   "cell_type": "code",
   "execution_count": 198,
   "metadata": {},
   "outputs": [
    {
     "data": {
      "text/plain": [
       "RandomForestRegressor(bootstrap=True, ccp_alpha=0.0, criterion='mse',\n",
       "                      max_depth=None, max_features='auto', max_leaf_nodes=None,\n",
       "                      max_samples=None, min_impurity_decrease=0.0,\n",
       "                      min_impurity_split=None, min_samples_leaf=1,\n",
       "                      min_samples_split=9, min_weight_fraction_leaf=0.0,\n",
       "                      n_estimators=80, n_jobs=None, oob_score=False,\n",
       "                      random_state=None, verbose=0, warm_start=False)"
      ]
     },
     "execution_count": 198,
     "metadata": {},
     "output_type": "execute_result"
    }
   ],
   "source": [
    "rf = RandomForestRegressor(n_estimators = 80,\n",
    "                          min_samples_split = 9,\n",
    "                          min_samples_leaf = 1,\n",
    "                          max_features = 'auto',\n",
    "                          max_depth = None)\n",
    "rf.fit(scaled_X_train,y_train)"
   ]
  },
  {
   "cell_type": "code",
   "execution_count": 199,
   "metadata": {},
   "outputs": [
    {
     "data": {
      "text/plain": [
       "0.8513645460789936"
      ]
     },
     "execution_count": 199,
     "metadata": {},
     "output_type": "execute_result"
    }
   ],
   "source": [
    "rf.score(scaled_X_test, y_test)"
   ]
  },
  {
   "cell_type": "code",
   "execution_count": null,
   "metadata": {},
   "outputs": [],
   "source": []
  }
 ],
 "metadata": {
  "kernelspec": {
   "display_name": "Python 3",
   "language": "python",
   "name": "python3"
  },
  "language_info": {
   "codemirror_mode": {
    "name": "ipython",
    "version": 3
   },
   "file_extension": ".py",
   "mimetype": "text/x-python",
   "name": "python",
   "nbconvert_exporter": "python",
   "pygments_lexer": "ipython3",
   "version": "3.8.5"
  }
 },
 "nbformat": 4,
 "nbformat_minor": 4
}
