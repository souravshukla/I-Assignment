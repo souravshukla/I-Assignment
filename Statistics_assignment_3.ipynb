{
 "cells": [
  {
   "cell_type": "markdown",
   "metadata": {},
   "source": [
    "### Problem Statement 1:\n",
    "Blood glucose levels for obese patients have a mean of 100 with a standard deviation of 15. \n",
    "A researcher thinks that a diet high in raw cornstarch will have a positive effect on\n",
    "blood glucose levels. A sample of 36 patients who have tried the raw cornstarch diet\n",
    "have a mean glucose level of 108. Test the hypothesis that the raw cornstarch had an\n",
    "effect or not."
   ]
  },
  {
   "cell_type": "markdown",
   "metadata": {},
   "source": [
    "#### Answer:\n",
    "\n",
    "\n",
    "**Let the blood glucose level for obese patients have a mean of 100 and the standard deviation of 15.**\n",
    "\n",
    "* population_mean = 100\n",
    "* population_sigma = 15       ------>>>> # This is standard deviation for whole population.\n",
    "\n",
    "**Let the sample of 36 patients have a mean of 108**\n",
    "\n",
    "* sample_mean = 108\n",
    "* sample_size = 36\n",
    "\n",
    "**The Hypothesis thus formed is as follows:**\n",
    "\n",
    "* H0: Mean = 100\n",
    "* H1: Mean is not the same."
   ]
  },
  {
   "cell_type": "code",
   "execution_count": 1,
   "metadata": {},
   "outputs": [],
   "source": [
    "import numpy as np"
   ]
  },
  {
   "cell_type": "code",
   "execution_count": 2,
   "metadata": {},
   "outputs": [],
   "source": [
    "# let us consider the significance level to be 5%.\n",
    "\n",
    "population_mean = 100\n",
    "population_sigma = 15 \n",
    "sample_mean = 108\n",
    "sample_size = 36\n",
    "\n",
    "# Firstly we have to find the z-test \n",
    "\n",
    "z_test = (sample_mean - population_mean)/(population_sigma/np.sqrt(sample_size))"
   ]
  },
  {
   "cell_type": "code",
   "execution_count": 3,
   "metadata": {},
   "outputs": [
    {
     "name": "stdout",
     "output_type": "stream",
     "text": [
      "The z-score:  3.2\n",
      "The area corresponding to z-score, we get 0.9997\n",
      "It implies that 99.97% of the value lies below 108 wherease 0.07% is above 108.\n",
      "Reject Null Hypothesis\n"
     ]
    }
   ],
   "source": [
    "print(\"The z-score: \",z_test)\n",
    "print(\"The area corresponding to z-score, we get 0.9997\")\n",
    "print(\"It implies that 99.97% of the value lies below 108 wherease 0.07% is above 108.\")\n",
    "\n",
    "# The value of z corresponding to significance level, alpha = 0.05\n",
    "# Since this problem is two tail test, alpha = 0.025\n",
    "z_alpha = 1.96\n",
    "\n",
    "if z_test > z_alpha or z_test < -z_alpha:\n",
    "    print(\"Reject Null Hypothesis\")\n",
    "else:\n",
    "    print(\"Accept Null Hypothesis\")"
   ]
  },
  {
   "cell_type": "markdown",
   "metadata": {},
   "source": [
    "### Problem Statement 2:\n",
    "In one state, 52% of the voters are Republicans, and 48% are Democrats. In a second\n",
    "state, 47% of the voters are Republicans, and 53% are Democrats. Suppose a simple\n",
    "random sample of 100 voters are surveyed from each state.\n",
    "What is the probability that the survey will show a greater percentage of Republican\n",
    "voters in the second state than in the first state?"
   ]
  },
  {
   "cell_type": "markdown",
   "metadata": {},
   "source": [
    "#### Answer:\n",
    "\n",
    "* Let P1 be a proportions of Republican voters for state 1.\n",
    "*     P2 be a proportions of Republican voters for state 2.\n",
    "\n",
    "* p1 be a proportions of Republican voters in sample from state 1.\n",
    "* p2 be a proportions of Republican voters in sample from state 2."
   ]
  },
  {
   "cell_type": "code",
   "execution_count": 4,
   "metadata": {},
   "outputs": [],
   "source": [
    "# Let N1 be the number of voters sampled from first state.\n",
    "# let N2 be the number of voters sampled from second state.\n",
    "\n",
    "N1 = 100\n",
    "N2 = 100\n",
    "\n",
    "P1 = 0.52\n",
    "P2 = 0.47\n",
    "\n",
    "# The mean of difference in sample proportions :\n",
    "mu = P1 - P2\n",
    "\n",
    "# standard deviation of the difference\n",
    "\n",
    "sigma = np.sqrt( (P1 * (1-P1)/N1)  + (P2 * (1-P2) / N2) )"
   ]
  },
  {
   "cell_type": "code",
   "execution_count": 5,
   "metadata": {},
   "outputs": [
    {
     "name": "stdout",
     "output_type": "stream",
     "text": [
      "Standard deviation of the difference:  0.07061869440877536\n",
      "\n",
      "Here we have to consider that p1 is less than p2. For this to happen p1-p2 must be less than zero\n",
      "transform random variable (p1 - p2) into z-score\n",
      "\n",
      "Z-score:  -0.7080278164104213\n",
      "The area corresponding to z-score is 24%\n"
     ]
    }
   ],
   "source": [
    "print(\"Standard deviation of the difference: \" , sigma)\n",
    "print(\"\\nHere we have to consider that p1 is less than p2. For this to happen p1-p2 must be less than zero\")\n",
    "\n",
    "print(\"transform random variable (p1 - p2) into z-score\")\n",
    "x = 0\n",
    "z_score = (x - mu)/sigma\n",
    "print(\"\\nZ-score: \" ,z_score)\n",
    "print(\"The area corresponding to z-score is 24%\")"
   ]
  },
  {
   "cell_type": "markdown",
   "metadata": {},
   "source": [
    "### Problem Statement 3:\n",
    "You take the SAT and score 1100. The mean score for the SAT is 1026 and the standard\n",
    "deviation is 209. How well did you score on the test compared to the average test taker?"
   ]
  },
  {
   "cell_type": "code",
   "execution_count": 6,
   "metadata": {},
   "outputs": [
    {
     "name": "stdout",
     "output_type": "stream",
     "text": [
      "Z-score:  0.35406698564593303\n",
      "Area corresponding to z-score is 0.637 i.e. 63.7%\n"
     ]
    }
   ],
   "source": [
    "mean = 1026\n",
    "sigma = 209\n",
    "\n",
    "marks_scored = 1100\n",
    "\n",
    "z_score = (marks_scored - mean) / sigma\n",
    "\n",
    "print(\"Z-score: \", z_score)\n",
    "print(\"Area corresponding to z-score is 0.637 i.e. 63.7%\")"
   ]
  }
 ],
 "metadata": {
  "kernelspec": {
   "display_name": "Python 3",
   "language": "python",
   "name": "python3"
  },
  "language_info": {
   "codemirror_mode": {
    "name": "ipython",
    "version": 3
   },
   "file_extension": ".py",
   "mimetype": "text/x-python",
   "name": "python",
   "nbconvert_exporter": "python",
   "pygments_lexer": "ipython3",
   "version": "3.7.4"
  }
 },
 "nbformat": 4,
 "nbformat_minor": 2
}
