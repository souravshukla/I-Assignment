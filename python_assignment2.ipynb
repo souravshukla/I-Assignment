{
  "nbformat": 4,
  "nbformat_minor": 0,
  "metadata": {
    "colab": {
      "name": "python_assignment2.ipynb",
      "provenance": []
    },
    "kernelspec": {
      "name": "python3",
      "display_name": "Python 3"
    }
  },
  "cells": [
    {
      "cell_type": "markdown",
      "metadata": {
        "id": "zq50mytL3UhC",
        "colab_type": "text"
      },
      "source": [
        "1. Create the below pattern using nested for loop in Python.         \n"
      ]
    },
    {
      "cell_type": "code",
      "metadata": {
        "id": "QxuJKSPi4145",
        "colab_type": "code",
        "colab": {
          "base_uri": "https://localhost:8080/",
          "height": 168
        },
        "outputId": "6d2dcb68-307c-45a4-985f-60618fb0c017"
      },
      "source": [
        "n=9   #total no of lines of pattern\n",
        "\n",
        "counter = int((n+1)/2)\n",
        "\n",
        "for i in range(1 , n+1):\n",
        "  for j in range(1 , counter + 1):\n",
        "    if j <= i:\n",
        "      if j == counter:\n",
        "        counter = counter - 1\n",
        "\n",
        "      print(\"*\", end = \"\")\n",
        "\n",
        "  print(end = \"\\n\")"
      ],
      "execution_count": null,
      "outputs": [
        {
          "output_type": "stream",
          "text": [
            "*\n",
            "**\n",
            "***\n",
            "****\n",
            "*****\n",
            "****\n",
            "***\n",
            "**\n",
            "*\n"
          ],
          "name": "stdout"
        }
      ]
    },
    {
      "cell_type": "markdown",
      "metadata": {
        "id": "bk0obb0B3UQ5",
        "colab_type": "text"
      },
      "source": [
        "2. Write a python program to reverse a word after accepting the input fro the user.\n"
      ]
    },
    {
      "cell_type": "code",
      "metadata": {
        "id": "0WrSYnqy3NPt",
        "colab_type": "code",
        "colab": {
          "base_uri": "https://localhost:8080/",
          "height": 67
        },
        "outputId": "7bf757cf-6744-430c-8808-00b534197c06"
      },
      "source": [
        "print(\"Enter a word:\")\n",
        "word = input()\n",
        "print(f\"The reverse of the {word}: \", word[::-1])"
      ],
      "execution_count": null,
      "outputs": [
        {
          "output_type": "stream",
          "text": [
            "Enter a word:\n",
            "malayalam\n",
            "The reverse of the malayalam:  malayalam\n"
          ],
          "name": "stdout"
        }
      ]
    }
  ]
}