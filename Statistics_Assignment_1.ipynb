{
 "cells": [
  {
   "cell_type": "code",
   "execution_count": 1,
   "metadata": {},
   "outputs": [],
   "source": [
    "import numpy as np"
   ]
  },
  {
   "cell_type": "code",
   "execution_count": 2,
   "metadata": {},
   "outputs": [],
   "source": [
    "from scipy import stats"
   ]
  },
  {
   "cell_type": "markdown",
   "metadata": {},
   "source": [
    "## Problem Statement:\n",
    "\n",
    "Calculate the mean, median, mode and standard deviation for the problem\n",
    "statements 1 & 2."
   ]
  },
  {
   "cell_type": "markdown",
   "metadata": {},
   "source": [
    "### Q 1:\n",
    "\n",
    "The marks awarded for an assignment set for a year 8 class of 20 students \n",
    "were as follows: \n",
    "\n",
    "6 7 5 7 7 8 7 6 9 7 4 10 6 8 8 9 5 6 4 8"
   ]
  },
  {
   "cell_type": "code",
   "execution_count": 3,
   "metadata": {},
   "outputs": [
    {
     "name": "stdout",
     "output_type": "stream",
     "text": [
      "The mean : 6.85\n",
      "The median : 7.0\n",
      "The mode : ModeResult(mode=array([7]), count=array([5]))\n"
     ]
    }
   ],
   "source": [
    "# let the marks obtained by 20 students of a class be:\n",
    "\n",
    "marks = [6, 7, 5, 7, 7, 8, 7, 6, 9, 7, 4, 10, 6, 8, 8, 9, 5, 6, 4, 8]\n",
    "mean = np.mean(marks)\n",
    "median = np.median(marks)\n",
    "mode = stats.mode(marks)\n",
    "\n",
    "print(\"The mean :\", mean)\n",
    "print(\"The median :\", median)\n",
    "print(\"The mode :\", mode)"
   ]
  },
  {
   "cell_type": "markdown",
   "metadata": {},
   "source": [
    "---------"
   ]
  },
  {
   "cell_type": "markdown",
   "metadata": {},
   "source": [
    "### Q 2:\n",
    "\n",
    "The number of calls from motorist per day for roadside service was recorded for\n",
    "particular month:\n",
    "\n",
    "28, 122, 217, 130, 120, 86, 80, 90, 140, 120, 70, 40, 145, 113, 90, 68, 174, 194, 170,\n",
    "100, 75, 104, 97, 75, 123, 100, 75, 104, 97, 75, 123, 100, 89, 120, 109"
   ]
  },
  {
   "cell_type": "code",
   "execution_count": 4,
   "metadata": {},
   "outputs": [
    {
     "name": "stdout",
     "output_type": "stream",
     "text": [
      "The mean :  107.51428571428572\n",
      "The median :  100.0\n",
      "The mode :  ModeResult(mode=array([75]), count=array([4]))\n"
     ]
    }
   ],
   "source": [
    "# let the number of calls from motorist per day for roadside services are:\n",
    "\n",
    "calls = [28, 122, 217, 130, 120, 86, 80, 90, 140, 120, 70, 40, 145, 113, 90, 68, 174, 194, 170,\n",
    "100, 75, 104, 97, 75, 123, 100, 75, 104, 97, 75, 123, 100, 89, 120, 109]\n",
    "\n",
    "print(\"The mean : \", np.mean(calls))\n",
    "print(\"The median : \", np.median(calls))\n",
    "print(\"The mode : \", stats.mode(calls))"
   ]
  },
  {
   "cell_type": "markdown",
   "metadata": {},
   "source": [
    "---------"
   ]
  },
  {
   "cell_type": "markdown",
   "metadata": {},
   "source": [
    "### Problem Statement 3:\n",
    "\n",
    "The number of times I go to the gym in weekdays, are given below along with its\n",
    "associated probability:\n",
    "\n",
    "     x = 0, 1, 2, 3, 4, 5\n",
    "     f(x) = 0.09, 0.15, 0.40, 0.25, 0.10, 0.01\n",
    "\n",
    "Calculate the mean no. of workouts in a week. Also evaluate the variance \n",
    "involved in it."
   ]
  },
  {
   "cell_type": "code",
   "execution_count": 5,
   "metadata": {},
   "outputs": [],
   "source": [
    "# let the number of times one goes to gym during weekdays be denoted by x and its associated probability by func_x\n",
    "\n",
    "x = np.array([0, 1, 2, 3, 4, 5])\n",
    "func_x = np.array([0.09, 0.15, 0.40, 0.25, 0.10, 0.01])"
   ]
  },
  {
   "cell_type": "markdown",
   "metadata": {},
   "source": [
    "The mean of a discrete random variable is described by:\n",
    "\n",
    "       mean = E(X) = μx = Σ [ x[i] * P(x[i]) ]\n",
    "       \n",
    "the variance of a discrete random variable is shown below.\n",
    "\n",
    "       variance = σ^2 = Σ { [ x[i] - E(x) ]^2 * P(x[i]) }"
   ]
  },
  {
   "cell_type": "code",
   "execution_count": 6,
   "metadata": {},
   "outputs": [
    {
     "name": "stdout",
     "output_type": "stream",
     "text": [
      "Mean: 2.15\n",
      "Variance 1.2274999999999998\n"
     ]
    }
   ],
   "source": [
    "mean = np.dot(x,func_x)\n",
    "variance = np.dot(np.power(np.subtract(x,mean), 2), func_x)\n",
    "print(\"Mean:\" , mean)\n",
    "print('Variance', variance)"
   ]
  },
  {
   "cell_type": "markdown",
   "metadata": {},
   "source": [
    "---------------------------------------------"
   ]
  },
  {
   "cell_type": "markdown",
   "metadata": {},
   "source": [
    "### Problem Statement 4:\n",
    "\n",
    "Let the continuous random variable D denote the diameter of the hole drilled in an\n",
    "aluminum sheet. The target diameter to be achieved is 12.5mm. Random\n",
    "disturbances in the process often result in inaccuracy.\n",
    "Historical data shows that the distribution of D can be modelled by the PDF (d) =\n",
    "20e−20(d−12.5), d ≥ 12.5. If a part with diameter > 12.6 mm needs to be scrapped,\n",
    "what is the proportion of those parts? What is the CDF when the diameter is of 11\n",
    "mm? What is your conclusion regarding the proportion of scraps?"
   ]
  },
  {
   "cell_type": "code",
   "execution_count": 7,
   "metadata": {},
   "outputs": [],
   "source": [
    "# Let the continuous random variable D denote the diameter of the hole in the aluminium sheet.\n",
    "\n",
    "from scipy import integrate\n",
    "\n",
    "def probability_distribution(func, a, b):\n",
    "    func_pdf, error = integrate.quad(func, a, b )\n",
    "    return func_pdf\n",
    "\n",
    "func = lambda d: 20 * np.exp(-20 * (d - 12.5))"
   ]
  },
  {
   "cell_type": "code",
   "execution_count": 8,
   "metadata": {},
   "outputs": [
    {
     "name": "stdout",
     "output_type": "stream",
     "text": [
      "0.13533528323661398\n",
      "0.8646647167633718\n",
      "0.9999999999999856\n"
     ]
    }
   ],
   "source": [
    "print(probability_distribution(func, 12.6, np.inf))\n",
    "print(probability_distribution(func, 12.5, 12.6))\n",
    "\n",
    "func = lambda d: 20 * np.exp(-20 * (d - 11))\n",
    "print(probability_distribution(func, 11, 12.6))"
   ]
  },
  {
   "cell_type": "markdown",
   "metadata": {},
   "source": [
    "---------"
   ]
  },
  {
   "cell_type": "markdown",
   "metadata": {},
   "source": [
    "### Problem Statement 5:\n",
    "\n",
    "A company manufactures LED bulbs with a faulty rate of 30%. If I randomly select 6\n",
    "chosen LEDs, what is the probability of having 2 faulty LEDs in my sample?\n",
    "Calculate the average value of this process. Also evaluate the standard deviation\n",
    "associated with it."
   ]
  },
  {
   "cell_type": "code",
   "execution_count": 9,
   "metadata": {},
   "outputs": [
    {
     "name": "stdout",
     "output_type": "stream",
     "text": [
      "Probability will be : 0.32413499999999995\n",
      "CDF will be : 0.74431\n",
      "mean :=  1.7999999999999998\n",
      "standard deviation := 1.1224972160321822\n"
     ]
    }
   ],
   "source": [
    "# We have to find P(X=2) = 6C2 * (0.3)**2 * (0.7)**4\n",
    "\n",
    "#Probability of getting faulty out of 6 trials\n",
    "from scipy.stats import binom\n",
    "import matplotlib.pyplot as plt\n",
    "import seaborn as sns\n",
    "\n",
    "probab=binom.pmf(k=2,n=6,p=0.3)\n",
    "print(\"Probability will be :\",probab)\n",
    "cdf=binom.cdf(k=2,n=6,p=0.3)\n",
    "print(\"CDF will be :\",cdf)\n",
    "\n",
    "mean,var=binom.stats(n=6,p=0.3)\n",
    "print(\"mean := \",mean)\n",
    "print(\"standard deviation :=\",np.sqrt(var))"
   ]
  },
  {
   "cell_type": "markdown",
   "metadata": {},
   "source": [
    "### Problem Statement 7:\n",
    "\n",
    "Customers arrive at a rate of 72 per hour to my shop. What is the probability of k\n",
    "customers arriving in 4 minutes? a) 5 customers, b) not more than 3 customers, c)\n",
    "more than 3 customers. Give a pictorial representation of the same to validate your\n",
    "answer."
   ]
  },
  {
   "cell_type": "code",
   "execution_count": 10,
   "metadata": {},
   "outputs": [
    {
     "name": "stdout",
     "output_type": "stream",
     "text": [
      "0.17474768364388296 0.14253921888902693 0.8252523163561171\n"
     ]
    }
   ],
   "source": [
    "from scipy.stats import poisson\n",
    "\n",
    "probab1=poisson.pmf(k=5,mu=4.8)\n",
    "probab2=sum(poisson.pmf(k=[0,1,2],mu=4.8))\n",
    "print(probab1,probab2, 1 - probab1)"
   ]
  },
  {
   "cell_type": "markdown",
   "metadata": {},
   "source": [
    "---------"
   ]
  },
  {
   "cell_type": "markdown",
   "metadata": {},
   "source": [
    "### Problem Statement 10:\n",
    "\n",
    "Please compute the following:\n",
    "\n",
    "* a) P(Z > 1.26),  P(Z < −0.86), P(Z > −1.37), P(−1.25 < Z < 0.37),  P(Z ≤ −4.6)\n",
    "* b) Find the value z such that P(Z > z) = 0.05\n",
    "* c) Find the value of z such that P(−z < Z < z) = 0.99"
   ]
  },
  {
   "cell_type": "markdown",
   "metadata": {},
   "source": [
    "### a.)"
   ]
  },
  {
   "cell_type": "code",
   "execution_count": 11,
   "metadata": {},
   "outputs": [
    {
     "name": "stdout",
     "output_type": "stream",
     "text": [
      "    P(Z > 1.26      :  0.10383468112130045\n",
      "    P(Z < −0.86)    :  0.1948945212518084\n",
      "    P(Z > -1.37)    :  0.914656549178033\n",
      "P(−1.25 < Z < 0.37) :  0.5386589811336914\n",
      "    P(Z ≤ −4.6)     :  2.1124547025028537e-06\n"
     ]
    }
   ],
   "source": [
    "from scipy import stats as st\n",
    "\n",
    "print(\"    P(Z > 1.26      : \",1-st.norm.cdf(1.26))\n",
    "print(\"    P(Z < −0.86)    : \",st.norm.cdf(-0.86))\n",
    "print(\"    P(Z > -1.37)    : \",1-st.norm.cdf(-1.37))\n",
    "print(\"P(−1.25 < Z < 0.37) : \",st.norm.cdf(0.37) - st.norm.cdf(-1.25))\n",
    "print(\"    P(Z ≤ −4.6)     : \", st.norm.cdf(-4.6))"
   ]
  },
  {
   "cell_type": "markdown",
   "metadata": {},
   "source": [
    "### b.)"
   ]
  },
  {
   "cell_type": "code",
   "execution_count": 12,
   "metadata": {},
   "outputs": [
    {
     "name": "stdout",
     "output_type": "stream",
     "text": [
      "The value of z for which P(Z>z) :  -1.6448536269514729\n"
     ]
    }
   ],
   "source": [
    "print(\"The value of z for which P(Z>z) : \",  st.norm.ppf(0.05) )"
   ]
  },
  {
   "cell_type": "markdown",
   "metadata": {},
   "source": [
    "### c.)"
   ]
  },
  {
   "cell_type": "code",
   "execution_count": 13,
   "metadata": {},
   "outputs": [
    {
     "name": "stdout",
     "output_type": "stream",
     "text": [
      "The value of z such that P(−z < Z < z) :  2.3263478740408408\n"
     ]
    }
   ],
   "source": [
    "print(\"The value of z such that P(−z < Z < z) : \", st.norm.ppf(0.99) )"
   ]
  },
  {
   "cell_type": "markdown",
   "metadata": {},
   "source": [
    "----------"
   ]
  },
  {
   "cell_type": "markdown",
   "metadata": {},
   "source": [
    "### Problem Statement 11:\n",
    "\n",
    "The current flow in a copper wire follow a normal distribution with a mean of 10 mA\n",
    "and a variance of 4 (mA)2.\n",
    "What is the probability that a current measurement will exceed 13 mA? What is the\n",
    "probability that a current measurement is between 9 and 11mA? Determine the\n",
    "current measurement which has a probability of 0.98."
   ]
  },
  {
   "cell_type": "markdown",
   "metadata": {},
   "source": [
    "We know that the normal distribution is as follow:           \n",
    "             \n",
    "<img src="Images/nd.png">"
   ]
  },
  {
   "cell_type": "code",
   "execution_count": 14,
   "metadata": {},
   "outputs": [
    {
     "name": "stdout",
     "output_type": "stream",
     "text": [
      "0.06680720126885485\n",
      "0.3829249225480263\n"
     ]
    }
   ],
   "source": [
    "mean = 10 \n",
    "variance = 4 \n",
    "std = variance ** 0.5\n",
    "\n",
    "def normal_distribution(func, a, b):\n",
    "    func_pdf, error = integrate.quad(func, a, b )\n",
    "    return func_pdf\n",
    "\n",
    "func = lambda d: np.exp(-np.power((d - mean),2)/(2*variance))/(std*(2*np.pi)**0.5)\n",
    "\n",
    "print(normal_distribution(func, 13, np.inf))\n",
    "print(normal_distribution(func, 9, 11))"
   ]
  },
  {
   "cell_type": "code",
   "execution_count": 15,
   "metadata": {},
   "outputs": [
    {
     "name": "stdout",
     "output_type": "stream",
     "text": [
      "0.9875806693484477\n"
     ]
    }
   ],
   "source": [
    "print(normal_distribution(func, 5, 15))"
   ]
  },
  {
   "cell_type": "code",
   "execution_count": 16,
   "metadata": {},
   "outputs": [
    {
     "data": {
      "text/plain": [
       "[<matplotlib.lines.Line2D at 0x1d86baefbb0>]"
      ]
     },
     "execution_count": 16,
     "metadata": {},
     "output_type": "execute_result"
    },
    {
     "data": {
      "image/png": "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\n",
      "text/plain": [
       "<Figure size 432x288 with 1 Axes>"
      ]
     },
     "metadata": {
      "needs_background": "light"
     },
     "output_type": "display_data"
    }
   ],
   "source": [
    "y = np.linspace(4, 16)\n",
    "plt.plot(y, stats.norm.pdf(y , 10, 2))"
   ]
  },
  {
   "cell_type": "markdown",
   "metadata": {},
   "source": [
    "---------"
   ]
  }
 ],
 "metadata": {
  "kernelspec": {
   "display_name": "Python 3",
   "language": "python",
   "name": "python3"
  },
  "language_info": {
   "codemirror_mode": {
    "name": "ipython",
    "version": 3
   },
   "file_extension": ".py",
   "mimetype": "text/x-python",
   "name": "python",
   "nbconvert_exporter": "python",
   "pygments_lexer": "ipython3",
   "version": "3.8.5"
  }
 },
 "nbformat": 4,
 "nbformat_minor": 2
}
