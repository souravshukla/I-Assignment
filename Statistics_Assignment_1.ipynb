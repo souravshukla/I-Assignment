{
 "cells": [
  {
   "cell_type": "code",
   "execution_count": 1,
   "metadata": {},
   "outputs": [],
   "source": [
    "import numpy as np"
   ]
  },
  {
   "cell_type": "code",
   "execution_count": 2,
   "metadata": {},
   "outputs": [],
   "source": [
    "from scipy import stats"
   ]
  },
  {
   "cell_type": "markdown",
   "metadata": {},
   "source": [
    "## Problem Statement:\n",
    "\n",
    "Calculate the mean, median, mode and standard deviation for the problem\n",
    "statements 1 & 2."
   ]
  },
  {
   "cell_type": "markdown",
   "metadata": {},
   "source": [
    "### Q 1:\n",
    "\n",
    "The marks awarded for an assignment set for a year 8 class of 20 students \n",
    "were as follows: \n",
    "\n",
    "6 7 5 7 7 8 7 6 9 7 4 10 6 8 8 9 5 6 4 8"
   ]
  },
  {
   "cell_type": "code",
   "execution_count": 3,
   "metadata": {},
   "outputs": [
    {
     "name": "stdout",
     "output_type": "stream",
     "text": [
      "The mean : 6.85\n",
      "The median : 7.0\n",
      "The mode : ModeResult(mode=array([7]), count=array([5]))\n"
     ]
    }
   ],
   "source": [
    "# let the marks obtained by 20 students of a class be:\n",
    "\n",
    "marks = [6, 7, 5, 7, 7, 8, 7, 6, 9, 7, 4, 10, 6, 8, 8, 9, 5, 6, 4, 8]\n",
    "mean = np.mean(marks)\n",
    "median = np.median(marks)\n",
    "mode = stats.mode(marks)\n",
    "\n",
    "print(\"The mean :\", mean)\n",
    "print(\"The median :\", median)\n",
    "print(\"The mode :\", mode)"
   ]
  },
  {
   "cell_type": "markdown",
   "metadata": {},
   "source": [
    "---------"
   ]
  },
  {
   "cell_type": "markdown",
   "metadata": {},
   "source": [
    "### Q 2:\n",
    "\n",
    "The number of calls from motorist per day for roadside service was recorded for\n",
    "particular month:\n",
    "\n",
    "28, 122, 217, 130, 120, 86, 80, 90, 140, 120, 70, 40, 145, 113, 90, 68, 174, 194, 170,\n",
    "100, 75, 104, 97, 75, 123, 100, 75, 104, 97, 75, 123, 100, 89, 120, 109"
   ]
  },
  {
   "cell_type": "code",
   "execution_count": 4,
   "metadata": {},
   "outputs": [
    {
     "name": "stdout",
     "output_type": "stream",
     "text": [
      "The mean :  107.51428571428572\n",
      "The median :  100.0\n",
      "The mode :  ModeResult(mode=array([75]), count=array([4]))\n"
     ]
    }
   ],
   "source": [
    "# let the number of calls from motorist per day for roadside services are:\n",
    "\n",
    "calls = [28, 122, 217, 130, 120, 86, 80, 90, 140, 120, 70, 40, 145, 113, 90, 68, 174, 194, 170,\n",
    "100, 75, 104, 97, 75, 123, 100, 75, 104, 97, 75, 123, 100, 89, 120, 109]\n",
    "\n",
    "print(\"The mean : \", np.mean(calls))\n",
    "print(\"The median : \", np.median(calls))\n",
    "print(\"The mode : \", stats.mode(calls))"
   ]
  },
  {
   "cell_type": "markdown",
   "metadata": {},
   "source": [
    "---------"
   ]
  },
  {
   "cell_type": "markdown",
   "metadata": {},
   "source": [
    "### Problem Statement 3:\n",
    "\n",
    "The number of times I go to the gym in weekdays, are given below along with its\n",
    "associated probability:\n",
    "\n",
    "     x = 0, 1, 2, 3, 4, 5\n",
    "     f(x) = 0.09, 0.15, 0.40, 0.25, 0.10, 0.01\n",
    "\n",
    "Calculate the mean no. of workouts in a week. Also evaluate the variance \n",
    "involved in it."
   ]
  },
  {
   "cell_type": "code",
   "execution_count": 5,
   "metadata": {},
   "outputs": [],
   "source": [
    "# let the number of times one goes to gym during weekdays be denoted by x and its associated probability by func_x\n",
    "\n",
    "x = np.array([0, 1, 2, 3, 4, 5])\n",
    "func_x = np.array([0.09, 0.15, 0.40, 0.25, 0.10, 0.01])"
   ]
  },
  {
   "cell_type": "markdown",
   "metadata": {},
   "source": [
    "The mean of a discrete random variable is described by:\n",
    "\n",
    "       mean = E(X) = μx = Σ [ x[i] * P(x[i]) ]\n",
    "       \n",
    "the variance of a discrete random variable is shown below.\n",
    "\n",
    "       variance = σ^2 = Σ { [ x[i] - E(x) ]^2 * P(x[i]) }"
   ]
  },
  {
   "cell_type": "code",
   "execution_count": 6,
   "metadata": {},
   "outputs": [
    {
     "name": "stdout",
     "output_type": "stream",
     "text": [
      "Mean: 2.15\n",
      "Variance 1.2274999999999998\n"
     ]
    }
   ],
   "source": [
    "mean = np.dot(x,func_x)\n",
    "variance = np.dot(np.power(np.subtract(x,mean), 2), func_x)\n",
    "print(\"Mean:\" , mean)\n",
    "print('Variance', variance)"
   ]
  },
  {
   "cell_type": "markdown",
   "metadata": {},
   "source": [
    "---------------------------------------------"
   ]
  },
  {
   "cell_type": "markdown",
   "metadata": {},
   "source": [
    "### Problem Statement 4:\n",
    "\n",
    "Let the continuous random variable D denote the diameter of the hole drilled in an\n",
    "aluminum sheet. The target diameter to be achieved is 12.5mm. Random\n",
    "disturbances in the process often result in inaccuracy.\n",
    "Historical data shows that the distribution of D can be modelled by the PDF (d) =\n",
    "20e−20(d−12.5), d ≥ 12.5. If a part with diameter > 12.6 mm needs to be scrapped,\n",
    "what is the proportion of those parts? What is the CDF when the diameter is of 11\n",
    "mm? What is your conclusion regarding the proportion of scraps?"
   ]
  },
  {
   "cell_type": "code",
   "execution_count": 7,
   "metadata": {},
   "outputs": [],
   "source": [
    "# Let the continuous random variable D denote the diameter of the hole in the aluminium sheet.\n",
    "\n",
    "from scipy import integrate\n",
    "\n",
    "def probability_distribution(func, a, b):\n",
    "    func_pdf, error = integrate.quad(func, a, b )\n",
    "    return func_pdf\n",
    "\n",
    "func = lambda d: 20 * np.exp(-20 * (d - 12.5))"
   ]
  },
  {
   "cell_type": "code",
   "execution_count": 8,
   "metadata": {},
   "outputs": [
    {
     "name": "stdout",
     "output_type": "stream",
     "text": [
      "0.13533528323661398\n",
      "0.8646647167633718\n",
      "0.9999999999999856\n"
     ]
    }
   ],
   "source": [
    "print(probability_distribution(func, 12.6, np.inf))\n",
    "print(probability_distribution(func, 12.5, 12.6))\n",
    "\n",
    "func = lambda d: 20 * np.exp(-20 * (d - 11))\n",
    "print(probability_distribution(func, 11, 12.6))"
   ]
  },
  {
   "cell_type": "markdown",
   "metadata": {},
   "source": [
    "---------"
   ]
  },
  {
   "cell_type": "markdown",
   "metadata": {},
   "source": [
    "### Problem Statement 5:\n",
    "\n",
    "A company manufactures LED bulbs with a faulty rate of 30%. If I randomly select 6\n",
    "chosen LEDs, what is the probability of having 2 faulty LEDs in my sample?\n",
    "Calculate the average value of this process. Also evaluate the standard deviation\n",
    "associated with it."
   ]
  },
  {
   "cell_type": "code",
   "execution_count": 9,
   "metadata": {},
   "outputs": [
    {
     "name": "stdout",
     "output_type": "stream",
     "text": [
      "Probability will be : 0.32413499999999995\n",
      "CDF will be : 0.74431\n",
      "mean :=  1.7999999999999998\n",
      "standard deviation := 1.1224972160321822\n"
     ]
    }
   ],
   "source": [
    "# We have to find P(X=2) = 6C2 * (0.3)**2 * (0.7)**4\n",
    "\n",
    "#Probability of getting faulty out of 6 trials\n",
    "from scipy.stats import binom\n",
    "import matplotlib.pyplot as plt\n",
    "import seaborn as sns\n",
    "\n",
    "probab=binom.pmf(k=2,n=6,p=0.3)\n",
    "print(\"Probability will be :\",probab)\n",
    "cdf=binom.cdf(k=2,n=6,p=0.3)\n",
    "print(\"CDF will be :\",cdf)\n",
    "\n",
    "mean,var=binom.stats(n=6,p=0.3)\n",
    "print(\"mean := \",mean)\n",
    "print(\"standard deviation :=\",np.sqrt(var))"
   ]
  },
  {
   "cell_type": "markdown",
   "metadata": {},
   "source": [
    "### Problem Statement 7:\n",
    "\n",
    "Customers arrive at a rate of 72 per hour to my shop. What is the probability of k\n",
    "customers arriving in 4 minutes? a) 5 customers, b) not more than 3 customers, c)\n",
    "more than 3 customers. Give a pictorial representation of the same to validate your\n",
    "answer."
   ]
  },
  {
   "cell_type": "code",
   "execution_count": 10,
   "metadata": {},
   "outputs": [
    {
     "name": "stdout",
     "output_type": "stream",
     "text": [
      "0.17474768364388296 0.14253921888902693 0.8252523163561171\n"
     ]
    }
   ],
   "source": [
    "from scipy.stats import poisson\n",
    "\n",
    "probab1=poisson.pmf(k=5,mu=4.8)\n",
    "probab2=sum(poisson.pmf(k=[0,1,2],mu=4.8))\n",
    "print(probab1,probab2, 1 - probab1)"
   ]
  },
  {
   "cell_type": "markdown",
   "metadata": {},
   "source": [
    "---------"
   ]
  },
  {
   "cell_type": "markdown",
   "metadata": {},
   "source": [
    "### Problem Statement 10:\n",
    "\n",
    "Please compute the following:\n",
    "\n",
    "* a) P(Z > 1.26),  P(Z < −0.86), P(Z > −1.37), P(−1.25 < Z < 0.37),  P(Z ≤ −4.6)\n",
    "* b) Find the value z such that P(Z > z) = 0.05\n",
    "* c) Find the value of z such that P(−z < Z < z) = 0.99"
   ]
  },
  {
   "cell_type": "markdown",
   "metadata": {},
   "source": [
    "### a.)"
   ]
  },
  {
   "cell_type": "code",
   "execution_count": 11,
   "metadata": {},
   "outputs": [
    {
     "name": "stdout",
     "output_type": "stream",
     "text": [
      "    P(Z > 1.26      :  0.10383468112130045\n",
      "    P(Z < −0.86)    :  0.1948945212518084\n",
      "    P(Z > -1.37)    :  0.914656549178033\n",
      "P(−1.25 < Z < 0.37) :  0.5386589811336914\n",
      "    P(Z ≤ −4.6)     :  2.1124547025028537e-06\n"
     ]
    }
   ],
   "source": [
    "from scipy import stats as st\n",
    "\n",
    "print(\"    P(Z > 1.26      : \",1-st.norm.cdf(1.26))\n",
    "print(\"    P(Z < −0.86)    : \",st.norm.cdf(-0.86))\n",
    "print(\"    P(Z > -1.37)    : \",1-st.norm.cdf(-1.37))\n",
    "print(\"P(−1.25 < Z < 0.37) : \",st.norm.cdf(0.37) - st.norm.cdf(-1.25))\n",
    "print(\"    P(Z ≤ −4.6)     : \", st.norm.cdf(-4.6))"
   ]
  },
  {
   "cell_type": "markdown",
   "metadata": {},
   "source": [
    "### b.)"
   ]
  },
  {
   "cell_type": "code",
   "execution_count": 12,
   "metadata": {},
   "outputs": [
    {
     "name": "stdout",
     "output_type": "stream",
     "text": [
      "The value of z for which P(Z>z) :  -1.6448536269514729\n"
     ]
    }
   ],
   "source": [
    "print(\"The value of z for which P(Z>z) : \",  st.norm.ppf(0.05) )"
   ]
  },
  {
   "cell_type": "markdown",
   "metadata": {},
   "source": [
    "### c.)"
   ]
  },
  {
   "cell_type": "code",
   "execution_count": 13,
   "metadata": {},
   "outputs": [
    {
     "name": "stdout",
     "output_type": "stream",
     "text": [
      "The value of z such that P(−z < Z < z) :  2.3263478740408408\n"
     ]
    }
   ],
   "source": [
    "print(\"The value of z such that P(−z < Z < z) : \", st.norm.ppf(0.99) )"
   ]
  },
  {
   "cell_type": "markdown",
   "metadata": {},
   "source": [
    "----------"
   ]
  },
  {
   "cell_type": "markdown",
   "metadata": {},
   "source": [
    "### Problem Statement 11:\n",
    "\n",
    "The current flow in a copper wire follow a normal distribution with a mean of 10 mA\n",
    "and a variance of 4 (mA)2.\n",
    "What is the probability that a current measurement will exceed 13 mA? What is the\n",
    "probability that a current measurement is between 9 and 11mA? Determine the\n",
    "current measurement which has a probability of 0.98."
   ]
  },
  {
   "cell_type": "markdown",
   "metadata": {},
   "source": [
    "We know that the normal distribution is as follow:           \n",
    "             \n",
    "<img src=\"Images/nd.PNG\">"
   ]
  },
  {
   "cell_type": "code",
   "execution_count": 14,
   "metadata": {},
   "outputs": [
    {
     "name": "stdout",
     "output_type": "stream",
     "text": [
      "0.06680720126885485\n",
      "0.3829249225480263\n"
     ]
    }
   ],
   "source": [
    "mean = 10 \n",
    "variance = 4 \n",
    "std = variance ** 0.5\n",
    "\n",
    "def normal_distribution(func, a, b):\n",
    "    func_pdf, error = integrate.quad(func, a, b )\n",
    "    return func_pdf\n",
    "\n",
    "func = lambda d: np.exp(-np.power((d - mean),2)/(2*variance))/(std*(2*np.pi)**0.5)\n",
    "\n",
    "print(normal_distribution(func, 13, np.inf))\n",
    "print(normal_distribution(func, 9, 11))"
   ]
  },
  {
   "cell_type": "code",
   "execution_count": 15,
   "metadata": {},
   "outputs": [
    {
     "name": "stdout",
     "output_type": "stream",
     "text": [
      "0.9875806693484477\n"
     ]
    }
   ],
   "source": [
    "print(normal_distribution(func, 5, 15))"
   ]
  },
  {
   "cell_type": "code",
   "execution_count": null,
   "metadata": {},
   "outputs": [
    {
     "data": {
      "text/plain": [
       "[<matplotlib.lines.Line2D at 0x13c17d73910>]"
      ]
     },
     "execution_count": 16,
     "metadata": {},
     "output_type": "execute_result"
    }
   ],
   "source": [
    "y = np.linspace(4, 16)\n",
    "plt.plot(y, stats.norm.pdf(y , 10, 2))"
   ]
  },
  {
   "cell_type": "markdown",
   "metadata": {},
   "source": [
    "---------"
   ]
  }
 ],
 "metadata": {
  "kernelspec": {
   "display_name": "Python 3",
   "language": "python",
   "name": "python3"
  },
  "language_info": {
   "codemirror_mode": {
    "name": "ipython",
    "version": 3
   },
   "file_extension": ".py",
   "mimetype": "text/x-python",
   "name": "python",
   "nbconvert_exporter": "python",
   "pygments_lexer": "ipython3",
   "version": "3.8.5"
  }
 },
 "nbformat": 4,
 "nbformat_minor": 2
}
