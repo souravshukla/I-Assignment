{
  "nbformat": 4,
  "nbformat_minor": 0,
  "metadata": {
    "colab": {
      "name": "exception handling assignment.ipynb",
      "provenance": [],
      "collapsed_sections": [
        "nugf98HDbHJ7",
        "yChfqiySbWPq"
      ]
    },
    "kernelspec": {
      "name": "python3",
      "display_name": "Python 3"
    }
  },
  "cells": [
    {
      "cell_type": "markdown",
      "metadata": {
        "id": "nugf98HDbHJ7",
        "colab_type": "text"
      },
      "source": [
        "# 1.\n",
        "Write a function to compute 5/0 and use try/except to catch the excceptions."
      ]
    },
    {
      "cell_type": "code",
      "metadata": {
        "id": "JiNrLm-sbXzn",
        "colab_type": "code",
        "colab": {}
      },
      "source": [
        " def division(a, b):\n",
        "   try:\n",
        "     print(\"The Quotient: \", a/b)\n",
        "   except Exception as e:\n",
        "     print(\"Error detected:\", e)"
      ],
      "execution_count": null,
      "outputs": []
    },
    {
      "cell_type": "code",
      "metadata": {
        "id": "H49n6h-Wcwf5",
        "colab_type": "code",
        "colab": {
          "base_uri": "https://localhost:8080/",
          "height": 34
        },
        "outputId": "d1e9a1ff-1616-4653-8aea-9b2f54643a61"
      },
      "source": [
        "division(5,2)"
      ],
      "execution_count": null,
      "outputs": [
        {
          "output_type": "stream",
          "text": [
            "The Quotient:  2.5\n"
          ],
          "name": "stdout"
        }
      ]
    },
    {
      "cell_type": "code",
      "metadata": {
        "id": "jvNYVpsUdbQM",
        "colab_type": "code",
        "colab": {
          "base_uri": "https://localhost:8080/",
          "height": 34
        },
        "outputId": "75e6868c-f13c-452d-f22e-bd45b53d1e4e"
      },
      "source": [
        "division(5,0)"
      ],
      "execution_count": null,
      "outputs": [
        {
          "output_type": "stream",
          "text": [
            "Error detected: division by zero\n"
          ],
          "name": "stdout"
        }
      ]
    },
    {
      "cell_type": "markdown",
      "metadata": {
        "id": "yChfqiySbWPq",
        "colab_type": "text"
      },
      "source": [
        "# 2. \n",
        "Implement a python program to generate all sentences where subject is [\"Americans\", \"Indians\"] and verb is in [\"Play\", \"Watch\"] and the object is in [\"Baseball\", \"Cricket\"]"
      ]
    },
    {
      "cell_type": "code",
      "metadata": {
        "id": "AEzxERpHa5R1",
        "colab_type": "code",
        "colab": {}
      },
      "source": [
        "subjects = [\"American\", \"Indians\"]\n",
        "verbs = [\"play\", \"watch\"]\n",
        "objects = [\"Baseball\", \"Cricket\"]"
      ],
      "execution_count": null,
      "outputs": []
    },
    {
      "cell_type": "code",
      "metadata": {
        "id": "7gf3K2nseVsd",
        "colab_type": "code",
        "colab": {
          "base_uri": "https://localhost:8080/",
          "height": 151
        },
        "outputId": "67784225-694c-410b-e8cc-757a5219366d"
      },
      "source": [
        "for i in subjects:\n",
        "  for j in verbs:\n",
        "    for k in objects:\n",
        "      print(i , j , k +\".\")"
      ],
      "execution_count": null,
      "outputs": [
        {
          "output_type": "stream",
          "text": [
            "American play Baseball.\n",
            "American play Cricket.\n",
            "American watch Baseball.\n",
            "American watch Cricket.\n",
            "Indians play Baseball.\n",
            "Indians play Cricket.\n",
            "Indians watch Baseball.\n",
            "Indians watch Cricket.\n"
          ],
          "name": "stdout"
        }
      ]
    }
  ]
}