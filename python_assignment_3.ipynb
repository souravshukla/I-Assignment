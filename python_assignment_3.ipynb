{
  "nbformat": 4,
  "nbformat_minor": 0,
  "metadata": {
    "colab": {
      "name": "python_assignment_3.ipynb",
      "provenance": []
    },
    "kernelspec": {
      "name": "python3",
      "display_name": "Python 3"
    }
  },
  "cells": [
    {
      "cell_type": "markdown",
      "metadata": {
        "id": "JPCQukJPcGF4",
        "colab_type": "text"
      },
      "source": [
        "# 1.1 \n",
        "Write a Python program to implement your own myreduce() funtion which works exactly like Python's built-in function reduce().\n"
      ]
    },
    {
      "cell_type": "code",
      "metadata": {
        "id": "2iaseK_Fb_jK",
        "colab_type": "code",
        "colab": {
          "base_uri": "https://localhost:8080/",
          "height": 50
        },
        "outputId": "2c308b49-af32-444c-ba8a-78acb4acf72f"
      },
      "source": [
        "def myfunc(x,y):\n",
        "  if x>y:\n",
        "    return x\n",
        "  else:\n",
        "    return y\n",
        "\n",
        "def total_sum(x,y):\n",
        "  return x+y\n",
        "\n",
        "def myreduce(func , lists):\n",
        "  first = lists[0]\n",
        "  for i in lists[1:]:\n",
        "    first = func(first, i )\n",
        "\n",
        "  return first\n",
        "\n",
        "my_list = [1, 4, 3, 6, 8, 10]\n",
        "\n",
        "print(myreduce(myfunc, my_list))\n",
        "print(myreduce(total_sum, my_list))\n",
        "  "
      ],
      "execution_count": null,
      "outputs": [
        {
          "output_type": "stream",
          "text": [
            "10\n",
            "32\n"
          ],
          "name": "stdout"
        }
      ]
    },
    {
      "cell_type": "markdown",
      "metadata": {
        "id": "Xfgc7bv4ch8f",
        "colab_type": "text"
      },
      "source": [
        "# 1.2\n",
        "Write a Python program to implement your own myfilter() function which works exactly like python's built-in function filter()."
      ]
    },
    {
      "cell_type": "code",
      "metadata": {
        "id": "AyTmRvxachC_",
        "colab_type": "code",
        "colab": {
          "base_uri": "https://localhost:8080/",
          "height": 34
        },
        "outputId": "c39e6d38-62ea-43f9-b832-edb49cc9b64a"
      },
      "source": [
        "my_list = [1, 4, 3, 6, 8, 10]\n",
        "\n",
        "def even_check(num):\n",
        "  if num%2 == 0:\n",
        "    return True\n",
        "  else:\n",
        "    return False\n",
        "\n",
        "def myfilter(func, lists):\n",
        "  \n",
        "  a = []\n",
        "  for i in lists:\n",
        "    if func(i):\n",
        "      a.append(i)\n",
        "  return a\n",
        "  \n",
        "print(myfilter(even_check, my_list))"
      ],
      "execution_count": null,
      "outputs": [
        {
          "output_type": "stream",
          "text": [
            "[4, 6, 8, 10]\n"
          ],
          "name": "stdout"
        }
      ]
    },
    {
      "cell_type": "markdown",
      "metadata": {
        "id": "wAypdYyMc_nG",
        "colab_type": "text"
      },
      "source": [
        "# 1.3\n",
        "Implement list comprehension to produce the following lists.\n",
        "\n",
        "1. ['x', 'xx', 'xxx', 'xxxx', 'y', 'yy', 'yyy', 'yyyy', 'z', 'zz', 'zzz', 'zzzz']\n",
        "\n",
        "2. ['x', 'y', 'z', 'xx', 'yy', 'zz', 'xxx', 'yyy', 'zzz', 'xxxx', 'yyyy', 'zzzz']\n",
        "\n",
        "3. [[2], [3], [4], [3], [4], [5], [4], [5], [6]] \n",
        "\n",
        "4. [[2, 3, 4, 5], [3, 4, 5, 6],\n",
        "[4, 5, 6, 7], [5, 6, 7, 8]]\n",
        "\n",
        "5. [(1, 1), (2, 1), (3, 1), (1, 2), (2, 2), (3, 2), (1, 3), (2, 3), (3, 3)]\n"
      ]
    },
    {
      "cell_type": "code",
      "metadata": {
        "id": "99njLMTPcjNw",
        "colab_type": "code",
        "colab": {}
      },
      "source": [
        "list1 = ['x', 'y', 'z']\n"
      ],
      "execution_count": 1,
      "outputs": []
    },
    {
      "cell_type": "code",
      "metadata": {
        "id": "UeOW6JXHUvHm",
        "colab_type": "code",
        "colab": {
          "base_uri": "https://localhost:8080/",
          "height": 34
        },
        "outputId": "c7f0f8b9-87ce-4e8e-a530-28955e8f792f"
      },
      "source": [
        "#1.\n",
        "\n",
        "[i*j for i in list1 for j in range(1,5)]"
      ],
      "execution_count": 3,
      "outputs": [
        {
          "output_type": "execute_result",
          "data": {
            "text/plain": [
              "['x', 'xx', 'xxx', 'xxxx', 'y', 'yy', 'yyy', 'yyyy', 'z', 'zz', 'zzz', 'zzzz']"
            ]
          },
          "metadata": {
            "tags": []
          },
          "execution_count": 3
        }
      ]
    },
    {
      "cell_type": "code",
      "metadata": {
        "id": "GJEuTnLcVJ7l",
        "colab_type": "code",
        "colab": {
          "base_uri": "https://localhost:8080/",
          "height": 34
        },
        "outputId": "a1ce60c2-fc72-4566-bb43-b3d7c0d3b386"
      },
      "source": [
        "#2.\n",
        "\n",
        "[i*j for i in range(1,5) for j in list1]"
      ],
      "execution_count": 4,
      "outputs": [
        {
          "output_type": "execute_result",
          "data": {
            "text/plain": [
              "['x', 'y', 'z', 'xx', 'yy', 'zz', 'xxx', 'yyy', 'zzz', 'xxxx', 'yyyy', 'zzzz']"
            ]
          },
          "metadata": {
            "tags": []
          },
          "execution_count": 4
        }
      ]
    },
    {
      "cell_type": "code",
      "metadata": {
        "id": "Y4X6pm_eVo1q",
        "colab_type": "code",
        "colab": {
          "base_uri": "https://localhost:8080/",
          "height": 34
        },
        "outputId": "a373ff90-6216-4d3e-cdc6-c9e2c935f78d"
      },
      "source": [
        "#3.\n",
        "\n",
        "[[i+j] for i in range(2,5) for j in range(0,3)]"
      ],
      "execution_count": 7,
      "outputs": [
        {
          "output_type": "execute_result",
          "data": {
            "text/plain": [
              "[[2], [3], [4], [3], [4], [5], [4], [5], [6]]"
            ]
          },
          "metadata": {
            "tags": []
          },
          "execution_count": 7
        }
      ]
    },
    {
      "cell_type": "code",
      "metadata": {
        "id": "oPoHHV-2Y6Hn",
        "colab_type": "code",
        "colab": {
          "base_uri": "https://localhost:8080/",
          "height": 34
        },
        "outputId": "c991bb62-e6c1-4ec7-c08e-8551688afdb9"
      },
      "source": [
        "#4.\n",
        "\n",
        "list2 = [2,3,4,5]\n",
        "\n",
        "[[i+j for j in range(0,4)] for i in list2]"
      ],
      "execution_count": 10,
      "outputs": [
        {
          "output_type": "execute_result",
          "data": {
            "text/plain": [
              "[[2, 3, 4, 5], [3, 4, 5, 6], [4, 5, 6, 7], [5, 6, 7, 8]]"
            ]
          },
          "metadata": {
            "tags": []
          },
          "execution_count": 10
        }
      ]
    },
    {
      "cell_type": "code",
      "metadata": {
        "id": "jG1ya-CWaF9Q",
        "colab_type": "code",
        "colab": {
          "base_uri": "https://localhost:8080/",
          "height": 34
        },
        "outputId": "ac4ab630-a203-4f41-c533-21d1edd8def1"
      },
      "source": [
        "#5.\n",
        "\n",
        "[(j,i) for i in range(1,4) for j in range(1,4)]"
      ],
      "execution_count": 12,
      "outputs": [
        {
          "output_type": "execute_result",
          "data": {
            "text/plain": [
              "[(1, 1), (2, 1), (3, 1), (1, 2), (2, 2), (3, 2), (1, 3), (2, 3), (3, 3)]"
            ]
          },
          "metadata": {
            "tags": []
          },
          "execution_count": 12
        }
      ]
    },
    {
      "cell_type": "code",
      "metadata": {
        "id": "gfABy0nqcbPr",
        "colab_type": "code",
        "colab": {}
      },
      "source": [
        ""
      ],
      "execution_count": null,
      "outputs": []
    }
  ]
}