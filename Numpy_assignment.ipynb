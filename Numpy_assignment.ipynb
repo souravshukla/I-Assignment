{
 "cells": [
  {
   "cell_type": "code",
   "execution_count": 1,
   "metadata": {},
   "outputs": [],
   "source": [
    "import numpy as np"
   ]
  },
  {
   "cell_type": "markdown",
   "metadata": {},
   "source": [
    "### 1.Write a function so that the columns of the output matrix are powers of the input vector.\n",
    "\n",
    "       The order of the powers is determined by the increasing boolean argument. Specifically, when increasing is False, \n",
    "       the i-th output column is the input vector raised element wise to the power of N - i - 1.\n",
    "\n",
    "       Hint: Such a matrix with a geometric progression in each row is named for Alexandre Theophile Vandermonde."
   ]
  },
  {
   "cell_type": "code",
   "execution_count": null,
   "metadata": {},
   "outputs": [],
   "source": [
    "x = np.array([1,2,3,4])\n",
    "N = len(x)\n",
    "np.matrix([x**(N-i-1) for i in range(1,N)]).T"
   ]
  },
  {
   "cell_type": "markdown",
   "metadata": {},
   "source": [
    "### 2.Given a sequence of n values x1,x2,.....,xn and a window size k > 0, the k-th moving average of the given sequence is defined as follows:\n",
    "    \n",
    "    The moving average sequence has n-k+1 elements as shown below\n",
    "    \n",
    "    The moving averages with k = 4 of a ten-value sequence (n=10) is shown below.\n",
    "    \n",
    "                i     1   2   3   4   5   6   7   8   9   10\n",
    "             ------  ----------------------------------------\n",
    "             ------  ----------------------------------------\n",
    "             \n",
    "             Input 10 20 30 40 50 60 70 80 90 100\n",
    "             y1   25 = (10+20+30+40)/4\n",
    "             y2   35 = (20+30+40+50)/4\n",
    "             y3   45 = (30+40+50+60)/4\n",
    "             y4   55 = (40+50+60+70)/4\n",
    "             y5   65 = (50+60+70+80)/4\n",
    "             y6   75 = (60+70+80+90)/4\n",
    "             y7   85 = (70+80+90+100)/4\n",
    "    \n",
    "    Thus, the moving average sequence has n-k+1 = 10-4+1 = 7 values."
   ]
  },
  {
   "cell_type": "code",
   "execution_count": 3,
   "metadata": {},
   "outputs": [
    {
     "name": "stdout",
     "output_type": "stream",
     "text": [
      "choose the window size k (provided k<10)4\n",
      "Enter 1th value: 10\n",
      "Enter 2th value: 20\n",
      "Enter 3th value: 30\n",
      "Enter 4th value: 40\n",
      "Enter 5th value: 50\n",
      "Enter 6th value: 60\n",
      "Enter 7th value: 70\n",
      "Enter 8th value: 80\n",
      "Enter 9th value: 90\n",
      "Enter 10th value: 100\n"
     ]
    },
    {
     "data": {
      "text/plain": [
       "[10, 20, 30, 40, 50, 60, 70, 80, 90, 100]"
      ]
     },
     "execution_count": 3,
     "metadata": {},
     "output_type": "execute_result"
    }
   ],
   "source": [
    "n_values = np.arange(10)\n",
    "window_k = input(\"choose the window size k (provided k<10)\")\n",
    "x = []\n",
    "for i in n_values:\n",
    "    x.append( int(input(f\"Enter {i + 1}th value: \".format(i))))\n",
    "x"
   ]
  },
  {
   "cell_type": "code",
   "execution_count": 42,
   "metadata": {},
   "outputs": [],
   "source": [
    "def moving_average(values, window):\n",
    "    y = []\n",
    "    \n",
    "    for i in range(len(values) - window + 1):\n",
    "        total = 0\n",
    "        for j in range(i, i + window):\n",
    "            total = total + values[j]\n",
    "            if j == i+window-1:\n",
    "                y.append(total/4)\n",
    "    \n",
    "    return y"
   ]
  },
  {
   "cell_type": "code",
   "execution_count": 52,
   "metadata": {},
   "outputs": [
    {
     "name": "stdout",
     "output_type": "stream",
     "text": [
      "The moving sequence values are as follows:\n",
      "z1 = 25.0\n",
      "z2 = 35.0\n",
      "z3 = 45.0\n",
      "z4 = 55.0\n",
      "z5 = 65.0\n",
      "z6 = 75.0\n",
      "z7 = 85.0\n"
     ]
    }
   ],
   "source": [
    "z = moving_average(x,4)\n",
    "\n",
    "print('The moving sequence values are as follows:')\n",
    "\n",
    "for i in range(len(z)):\n",
    "    print(\"z\" + str(i+1), \"=\", z[i])"
   ]
  },
  {
   "cell_type": "markdown",
   "metadata": {},
   "source": [
    "### 3. Write a function to find moving averages in an array over a window.\n",
    "       Test it over [3,5,7,2,8,10,11,65,72,81,99,100,150] and window of 3"
   ]
  },
  {
   "cell_type": "code",
   "execution_count": 46,
   "metadata": {},
   "outputs": [
    {
     "data": {
      "text/plain": [
       "[3.75, 3.5, 4.25, 5.0, 7.25, 21.5, 37.0, 54.5, 63.0, 70.0, 87.25]"
      ]
     },
     "execution_count": 46,
     "metadata": {},
     "output_type": "execute_result"
    }
   ],
   "source": [
    "test_values = [3,5,7,2,8,10,11,65,72,81,99,100,150]\n",
    "window_size = 3\n",
    "moving_average(test_values, window_size)"
   ]
  }
 ],
 "metadata": {
  "kernelspec": {
   "display_name": "Python 3",
   "language": "python",
   "name": "python3"
  },
  "language_info": {
   "codemirror_mode": {
    "name": "ipython",
    "version": 3
   },
   "file_extension": ".py",
   "mimetype": "text/x-python",
   "name": "python",
   "nbconvert_exporter": "python",
   "pygments_lexer": "ipython3",
   "version": "3.7.4"
  }
 },
 "nbformat": 4,
 "nbformat_minor": 2
}
