{
  "nbformat": 4,
  "nbformat_minor": 0,
  "metadata": {
    "colab": {
      "name": "Python_assignment_4.ipynb",
      "provenance": []
    },
    "kernelspec": {
      "name": "python3",
      "display_name": "Python 3"
    }
  },
  "cells": [
    {
      "cell_type": "markdown",
      "metadata": {
        "id": "LaUkA-_KeQMD",
        "colab_type": "text"
      },
      "source": [
        "# 1.1\n",
        "Write a Python program to find the area of the triangle using the below formula\n",
        "\n",
        "area = (s*(s-a)*(s-b)*(s-c))**0.5\n",
        "\n",
        "function to take the length of the sides of triangle from users should be defined in the parent  class and function to calculate the area should be defined in subclass"
      ]
    },
    {
      "cell_type": "code",
      "metadata": {
        "id": "nvo5UD7K1-Qt",
        "colab_type": "code",
        "colab": {}
      },
      "source": [
        "class triangle:\n",
        "\n",
        "  def __init__(self, length_a, length_b, length_c):\n",
        "    self.length_a = length_a\n",
        "    self.length_b = length_b\n",
        "    self.length_c = length_c\n",
        "\n",
        "  def perimeter(self):\n",
        "    self.perimeter = (self.length_a + self.length_b + self.length_c)/2\n",
        "    return self.perimeter"
      ],
      "execution_count": 37,
      "outputs": []
    },
    {
      "cell_type": "code",
      "metadata": {
        "id": "4fP-qyErA2RE",
        "colab_type": "code",
        "colab": {}
      },
      "source": [
        "class area(triangle):\n",
        "\n",
        "  def area_of_triangle(self):\n",
        "    s = self.perimeter()\n",
        "    return (s*(s-self.length_a)*(s-self.length_b)*(s-self.length_c))**0.5"
      ],
      "execution_count": 41,
      "outputs": []
    },
    {
      "cell_type": "code",
      "metadata": {
        "id": "piNhuQ-PAcAn",
        "colab_type": "code",
        "colab": {
          "base_uri": "https://localhost:8080/",
          "height": 34
        },
        "outputId": "893cef7d-9e88-4793-cb68-7cff93faf38d"
      },
      "source": [
        "y = area(6,6,6)\n",
        "print(y.area_of_triangle())"
      ],
      "execution_count": 42,
      "outputs": [
        {
          "output_type": "stream",
          "text": [
            "15.588457268119896\n"
          ],
          "name": "stdout"
        }
      ]
    },
    {
      "cell_type": "code",
      "metadata": {
        "id": "8lA7yn12D0lq",
        "colab_type": "code",
        "colab": {
          "base_uri": "https://localhost:8080/",
          "height": 34
        },
        "outputId": "2acd75fa-725d-4fa3-dc05-058f3d9ccbbb"
      },
      "source": [
        "x = triangle(6,6,6)\n",
        "print(x.perimeter())"
      ],
      "execution_count": 44,
      "outputs": [
        {
          "output_type": "stream",
          "text": [
            "9.0\n"
          ],
          "name": "stdout"
        }
      ]
    },
    {
      "cell_type": "code",
      "metadata": {
        "id": "4KqHCJxUEcKc",
        "colab_type": "code",
        "colab": {
          "base_uri": "https://localhost:8080/",
          "height": 34
        },
        "outputId": "ae93252a-52bf-4e08-dcae-72b905e6e28f"
      },
      "source": [
        "y = area(7,8,9)\n",
        "print(y.area_of_triangle())"
      ],
      "execution_count": 45,
      "outputs": [
        {
          "output_type": "stream",
          "text": [
            "26.832815729997478\n"
          ],
          "name": "stdout"
        }
      ]
    },
    {
      "cell_type": "markdown",
      "metadata": {
        "id": "wOm7OpvGeQAE",
        "colab_type": "text"
      },
      "source": [
        "# 1.2\n",
        "Write a function filter_long_words() that takes a list of words and an integer n and returns the list of words that are longer than n."
      ]
    },
    {
      "cell_type": "code",
      "metadata": {
        "id": "4E7lmUYQ1_FG",
        "colab_type": "code",
        "colab": {}
      },
      "source": [
        "words = ['crocodile', 'hippopotamus', 'rhinoceros', 'maleficent', 'hello', 'yes', 'no']\n",
        "\n",
        "def filter_long_words(lists, n):\n",
        "  a = []\n",
        "  for i in lists:\n",
        "    if len(i) > n:\n",
        "      a.append(i)\n",
        "  return a"
      ],
      "execution_count": 62,
      "outputs": []
    },
    {
      "cell_type": "code",
      "metadata": {
        "id": "D1XblFE5GIef",
        "colab_type": "code",
        "colab": {
          "base_uri": "https://localhost:8080/",
          "height": 34
        },
        "outputId": "c19a1a25-8005-464d-b7d2-df123f218206"
      },
      "source": [
        "print(filter_long_words(words,4))"
      ],
      "execution_count": 63,
      "outputs": [
        {
          "output_type": "stream",
          "text": [
            "['crocodile', 'hippopotamus', 'rhinoceros', 'maleficent', 'hello']\n"
          ],
          "name": "stdout"
        }
      ]
    },
    {
      "cell_type": "markdown",
      "metadata": {
        "id": "92iA5Eo2ePvO",
        "colab_type": "text"
      },
      "source": [
        "# 2.1\n",
        "Write a Python program using function concept that maps list of words into a list of integers representing the lengths of the corresponding words.\n",
        "\n",
        "**Hints** If a list [ab,cde,erty] is passed on to the python function output should come as [2,3,4]. Here 2,3 and 4 are the lengths of the words in the list.\n"
      ]
    },
    {
      "cell_type": "code",
      "metadata": {
        "id": "SF5k0rdZdibn",
        "colab_type": "code",
        "colab": {}
      },
      "source": [
        "list_of_words = ['crocodile', 'hippopotamus', 'rhinoceros', 'maleficent', 'hello', 'yes', 'no']\n",
        "\n",
        "def length_of_words(words):\n",
        "  length = []\n",
        "  for i in words:\n",
        "    length.append(len(i))\n",
        "  return length"
      ],
      "execution_count": 67,
      "outputs": []
    },
    {
      "cell_type": "code",
      "metadata": {
        "id": "D7BM28xmLikZ",
        "colab_type": "code",
        "colab": {
          "base_uri": "https://localhost:8080/",
          "height": 34
        },
        "outputId": "54f59d50-8de5-477d-eb45-61f00ad7eb9c"
      },
      "source": [
        "print(length_of_words(list_of_words))"
      ],
      "execution_count": 68,
      "outputs": [
        {
          "output_type": "stream",
          "text": [
            "[9, 12, 10, 10, 5, 3, 2]\n"
          ],
          "name": "stdout"
        }
      ]
    },
    {
      "cell_type": "markdown",
      "metadata": {
        "id": "ynYA-8lL2m9z",
        "colab_type": "text"
      },
      "source": [
        "# 2.2\n",
        "Write a Python function which takes a character(i.e. a string of length 1) and returns True if it is a vowel, False otherwise."
      ]
    },
    {
      "cell_type": "code",
      "metadata": {
        "id": "VMd7Vps82ogE",
        "colab_type": "code",
        "colab": {}
      },
      "source": [
        "def char():\n",
        "  x = input(\"enter a string of length 1: \")\n",
        "\n",
        "  if x in ['a','e','i','o','u']:\n",
        "    return True\n",
        "  else:\n",
        "    return False"
      ],
      "execution_count": 71,
      "outputs": []
    },
    {
      "cell_type": "code",
      "metadata": {
        "id": "zhRjt4ij581K",
        "colab_type": "code",
        "colab": {
          "base_uri": "https://localhost:8080/",
          "height": 50
        },
        "outputId": "6dc52c57-ff62-46ac-f51e-e2bf618574a1"
      },
      "source": [
        "char()"
      ],
      "execution_count": 73,
      "outputs": [
        {
          "output_type": "stream",
          "text": [
            "enter a string of length 1: a\n"
          ],
          "name": "stdout"
        },
        {
          "output_type": "execute_result",
          "data": {
            "text/plain": [
              "True"
            ]
          },
          "metadata": {
            "tags": []
          },
          "execution_count": 73
        }
      ]
    }
  ]
}