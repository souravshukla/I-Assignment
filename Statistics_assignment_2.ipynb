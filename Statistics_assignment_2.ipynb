{
 "cells": [
  {
   "cell_type": "markdown",
   "metadata": {},
   "source": [
    "### Problem Statement 1:\n",
    "\n",
    "In each of the following situations, state whether it is a correctly stated hypothesis\n",
    "testing problem and why?\n",
    "1. H0: μ = 25, H1: μ ≠ 25\n",
    "2. H0: σ > 10, H1: σ = 10\n",
    "3. H0: x = 50, H1: x ≠ 50\n",
    "4. H0: p = 0.1, H1: p = 0.5\n",
    "5. H0: s = 30, H1: s > 30"
   ]
  },
  {
   "cell_type": "markdown",
   "metadata": {},
   "source": [
    "### Answer \n",
    "\n",
    "----------- \n",
    "\n",
    "1. **True**. The first statement is null hypothesis wherease the second one is alternate hypothesis which can be greater than or less than 25.\n",
    "2. **False**. Alternate hypothesis cannot give a definite value.\n",
    "3. **False**. Null and alternate hypothesis are statement about distribution not sample.\n",
    "4. **False**. p has two different values.\n",
    "5. **False**. Null and alternate hypothesis are statement about distribution not sample."
   ]
  },
  {
   "cell_type": "markdown",
   "metadata": {},
   "source": [
    "### Problem Statement 2:\n",
    "The college bookstore tells prospective students that the average cost of its\n",
    "textbooks is Rs. 52 with a standard deviation of Rs. 4.50. A group of smart statistics\n",
    "students thinks that the average cost is higher. To test the bookstore’s claim against\n",
    "their alternative, the students will select a random sample of size 100. Assume that\n",
    "the mean from their random sample is Rs. 52.80. Perform a hypothesis test at the\n",
    "5% level of significance and state your decision."
   ]
  },
  {
   "cell_type": "code",
   "execution_count": 1,
   "metadata": {},
   "outputs": [],
   "source": [
    "import numpy as np\n",
    "import scipy.stats as st\n",
    "\n",
    "# let the average cost of textbook be mean\n",
    "mean = 52\n",
    "standard_deviation = 4.50\n",
    "\n",
    "# Let the null hypothesis be that there is no change in average cost of textbook\n",
    "# wherease some students think that the average cost is higher \n",
    "\n",
    "# H0: Mean = 52\n",
    "# H1: Mean >= 52 "
   ]
  },
  {
   "cell_type": "code",
   "execution_count": 2,
   "metadata": {},
   "outputs": [
    {
     "name": "stdout",
     "output_type": "stream",
     "text": [
      "The z-score: 1.7777777777777715\n"
     ]
    }
   ],
   "source": [
    "sample_size = 100\n",
    "sample_mean = 52.80\n",
    "\n",
    "#Let us consider 5% level of significance\n",
    "\n",
    "z_score = (sample_mean - mean)/(standard_deviation/np.sqrt(sample_size))\n",
    "\n",
    "print(\"The z-score:\", z_score)\n",
    "\n",
    "alpha = 0.05"
   ]
  },
  {
   "cell_type": "code",
   "execution_count": 3,
   "metadata": {},
   "outputs": [
    {
     "name": "stdout",
     "output_type": "stream",
     "text": [
      "THe critical value of z-score for 5% significance: 1.6448536269514722\n",
      "Reject null hypothesis\n"
     ]
    }
   ],
   "source": [
    "# for upper tail test\n",
    "z_alpha = st.norm.ppf(1-alpha)\n",
    "print(\"THe critical value of z-score for 5% significance:\", z_alpha)\n",
    "\n",
    "if z_score < z_alpha:\n",
    "    print(\"Fail to reject null hypothesis\")\n",
    "else:\n",
    "    print(\"Reject null hypothesis\")"
   ]
  },
  {
   "cell_type": "code",
   "execution_count": 4,
   "metadata": {},
   "outputs": [
    {
     "name": "stdout",
     "output_type": "stream",
     "text": [
      "the p-value: 0.0377201798134007\n",
      "Reject Null Hypothesis\n"
     ]
    }
   ],
   "source": [
    "pval = (1 - st.norm.cdf(abs(z_score)))\n",
    "\n",
    "print(\"the p-value:\" , pval)\n",
    "if pval < alpha:\n",
    "    print(\"Reject Null Hypothesis\")\n",
    "else:\n",
    "    print(\"Accept Null Hypothesis\")"
   ]
  },
  {
   "cell_type": "markdown",
   "metadata": {},
   "source": [
    "### Problem Statement 3:\n",
    "A certain chemical pollutant in the Genesee River has been constant for several\n",
    "years with mean μ = 34 ppm (parts per million) and standard deviation σ = 8 ppm. A\n",
    "group of factory representatives whose companies discharge liquids into the river is\n",
    "now claiming that they have lowered the average with improved filtration devices. A\n",
    "group of environmentalists will test to see if this is true at the 1% level of\n",
    "significance. Assume \\ that their sample of size 50 gives a mean of 32.5 ppm.\n",
    "Perform a hypothesis test at the 1% level of significance and state your decision."
   ]
  },
  {
   "cell_type": "code",
   "execution_count": 5,
   "metadata": {},
   "outputs": [],
   "source": [
    "mean = 34\n",
    "# let standard deviation be denoted by sigma\n",
    "sigma = 8\n",
    "\n",
    "alpha = 0.01\n",
    "sample_size = 50\n",
    "\n",
    "sample_mean = 32.5"
   ]
  },
  {
   "cell_type": "code",
   "execution_count": 6,
   "metadata": {},
   "outputs": [],
   "source": [
    "def z_score(sm, sz, pm, sigma):\n",
    "    '''This function gives us the value of z_score\n",
    "    Input Values: \n",
    "    sm: sample mean\n",
    "    sz: sample size\n",
    "    pm: population mean\n",
    "    sigma: standard deviation of the population\n",
    "    \n",
    "    return:\n",
    "    Z_test: The z-score calculated based on input.'''\n",
    "    z_test = (sm - pm)/(sigma/np.sqrt(sz))\n",
    "    return z_test"
   ]
  },
  {
   "cell_type": "code",
   "execution_count": 7,
   "metadata": {},
   "outputs": [
    {
     "name": "stdout",
     "output_type": "stream",
     "text": [
      "The Z-score: -1.3258252147247767\n",
      "The critical value of z-score: -2.3263478740408408\n",
      "Fail to reject null hypothesis\n"
     ]
    }
   ],
   "source": [
    "z = z_score(sample_mean, sample_size, mean, sigma)\n",
    "print(\"The Z-score:\", z)\n",
    "\n",
    "# this test is for lower tail test\n",
    "z_alpha = st.norm.ppf(alpha)\n",
    "print(\"The critical value of z-score:\", z_alpha)\n",
    "\n",
    "if z > z_alpha:\n",
    "    print(\"Fail to reject null hypothesis\")\n",
    "else:\n",
    "    print(\"Reject null hypothesis\")"
   ]
  },
  {
   "cell_type": "markdown",
   "metadata": {},
   "source": [
    "### Problem Statement 4:\n",
    "Based on population figures and other general information on the U.S. population,\n",
    "suppose it has been estimated that, on average, a family of four in the U.S. spends\n",
    "about $1135 annually on dental expenditures. Suppose further that a regional dental\n",
    "association wants to test to determine if this figure is accurate for their area of\n",
    "country. To test this, 22 families of 4 are randomly selected from the population in\n",
    "that area of the country and a log is kept of the family’s dental expenditure for one\n",
    "year. The resulting data are given below. Assuming, that dental expenditure is\n",
    "normally distributed in the population, use the data and an alpha of 0.5 to test the\n",
    "dental association’s hypothesis.\n",
    "1008, 812, 1117, 1323, 1308, 1415, 831, 1021, 1287, 851, 930, 730, 699,\n",
    "872, 913, 944, 954, 987, 1695, 995, 1003, 994"
   ]
  },
  {
   "cell_type": "code",
   "execution_count": 8,
   "metadata": {},
   "outputs": [],
   "source": [
    "expenditure_average = 1135\n",
    "sample_size = 22\n",
    "\n",
    "alpha = 0.5\n",
    "\n",
    "# Null Hypothesis H0: The expenditure average = $1135\n",
    "# Alternative Hypothesis H1: expenditure average of the area is not $1135\n",
    "\n",
    "# It means this particular problem is two tailed test.\n",
    "\n",
    "sample_expenditure = [1008, 812, 1117, 1323, 1308, 1415, 831, 1021, 1287, 851, 930, \n",
    "                      730, 699, 872, 913, 944, 954, 987, 1695, 995, 1003, 994]"
   ]
  },
  {
   "cell_type": "code",
   "execution_count": 9,
   "metadata": {},
   "outputs": [
    {
     "data": {
      "image/png": "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\n",
      "text/plain": [
       "<Figure size 432x288 with 1 Axes>"
      ]
     },
     "metadata": {
      "needs_background": "light"
     },
     "output_type": "display_data"
    }
   ],
   "source": [
    "import matplotlib.pyplot as plt\n",
    "%matplotlib inline\n",
    "\n",
    "sample_expenditure = np.array(sample_expenditure)\n",
    "plt.hist(sample_expenditure );"
   ]
  },
  {
   "cell_type": "code",
   "execution_count": 10,
   "metadata": {},
   "outputs": [
    {
     "data": {
      "text/plain": [
       "-2.029362678735096"
      ]
     },
     "execution_count": 10,
     "metadata": {},
     "output_type": "execute_result"
    }
   ],
   "source": [
    "# As one can see from the above histogram that it is left-skewed normally distributed.\n",
    "# Here we have to perform t-test, since the sample size is less than 30.\n",
    "import statistics as s\n",
    "\n",
    "sample_mean = s.mean(sample_expenditure)\n",
    "sample_deviation = s.stdev(sample_expenditure)\n",
    "\n",
    "t_test = (sample_mean - expenditure_average)/(sample_deviation/np.sqrt(sample_size))\n",
    "t_test"
   ]
  },
  {
   "cell_type": "code",
   "execution_count": 11,
   "metadata": {},
   "outputs": [
    {
     "name": "stdout",
     "output_type": "stream",
     "text": [
      "1031 240.37262739338686\n"
     ]
    }
   ],
   "source": [
    "print(sample_mean, sample_deviation)"
   ]
  },
  {
   "cell_type": "markdown",
   "metadata": {},
   "source": [
    "t_alpha for two tailed test = 0.686\n",
    "\n",
    "since t_test < t_alpha \n",
    "print(\"reject H0\")"
   ]
  },
  {
   "cell_type": "markdown",
   "metadata": {},
   "source": [
    "### Problem Statement 5:\n",
    "In a report prepared by the Economic Research Department of a major bank the\n",
    "Department manager maintains that the average annual family income on Metropolis is $48,432. "
   ]
  },
  {
   "cell_type": "markdown",
   "metadata": {},
   "source": [
    "What do you conclude about the validity of the report if a random sample\n",
    "of 400 families shows and average income of $48,574 with a standard deviation of 2000?"
   ]
  },
  {
   "cell_type": "code",
   "execution_count": 12,
   "metadata": {},
   "outputs": [
    {
     "data": {
      "text/plain": [
       "1.42"
      ]
     },
     "execution_count": 12,
     "metadata": {},
     "output_type": "execute_result"
    }
   ],
   "source": [
    "income_mean = 48432\n",
    "\n",
    "sample_size = 400\n",
    "sample_mean = 48574\n",
    "standard_deviation = 2000\n",
    "\n",
    "t_test = z_score(sample_mean,sample_size, income_mean, standard_deviation)\n",
    "t_test"
   ]
  },
  {
   "cell_type": "markdown",
   "metadata": {},
   "source": [
    "### Problem Statement 6:\n",
    "Suppose that in past years the average price per square foot for warehouses in the United States has been $32.28."
   ]
  },
  {
   "cell_type": "markdown",
   "metadata": {},
   "source": [
    "A national real estate investor wants to determine whether that figure has changed now. The investor hires a researcher who randomly samples 19 warehouses that are for sale across the United States and finds that the mean price per square foot is $31.67, with a standard deviation"
   ]
  },
  {
   "cell_type": "markdown",
   "metadata": {},
   "source": [
    "of $ 1.29. Assume that the prices of warehouse footage are normally distributed in population. If the\n",
    "researcher uses a 5% level of significance, what statistical conclusion can be\n",
    "reached? What are the hypotheses?"
   ]
  },
  {
   "cell_type": "code",
   "execution_count": 13,
   "metadata": {},
   "outputs": [
    {
     "data": {
      "text/plain": [
       "-2.06118477175179"
      ]
     },
     "execution_count": 13,
     "metadata": {},
     "output_type": "execute_result"
    }
   ],
   "source": [
    "z_score(31.67,19,32.28,1.29) "
   ]
  },
  {
   "cell_type": "markdown",
   "metadata": {},
   "source": [
    "### Problem Statement 8:\n",
    "Find the t-score for a sample size of 16 taken from a population with mean 10 when\n",
    "the sample mean is 12 and the sample standard deviation is 1.5."
   ]
  },
  {
   "cell_type": "code",
   "execution_count": 14,
   "metadata": {},
   "outputs": [
    {
     "name": "stdout",
     "output_type": "stream",
     "text": [
      "The t-score:  5.333333333333333\n"
     ]
    }
   ],
   "source": [
    "import numpy as np\n",
    "\n",
    "sample_size =16\n",
    "population_mean = 10\n",
    "\n",
    "sample_mean = 12\n",
    "sample_standard_deviation = 1.5\n",
    "\n",
    "t_score = (sample_mean - population_mean)/(sample_standard_deviation/ np.sqrt(sample_size))\n",
    "\n",
    "print(\"The t-score: \", t_score)"
   ]
  },
  {
   "cell_type": "markdown",
   "metadata": {},
   "source": [
    "### Problem Statement 9:\n",
    "Find the t-score below which we can expect 99% of sample means will fall if samples\n",
    "of size 16 are taken from a normally distributed population."
   ]
  },
  {
   "cell_type": "code",
   "execution_count": 15,
   "metadata": {},
   "outputs": [
    {
     "name": "stdout",
     "output_type": "stream",
     "text": [
      "2.602480294995493\n"
     ]
    }
   ],
   "source": [
    "sample_size = 16\n",
    "alpha = 0.01\n",
    "\n",
    "value = st.t.ppf(1-alpha, df = sample_size-1)\n",
    "print(value)"
   ]
  },
  {
   "cell_type": "markdown",
   "metadata": {},
   "source": [
    "### Problem Statement 11:\n",
    "Two-tailed test for difference between two population means\n",
    "Is there evidence to conclude that the number of people travelling from Bangalore to\n",
    "Chennai is different from the number of people travelling from Bangalore to Hosur in\n",
    "a week, given the following:\n",
    "* Population 1: Bangalore to Chennai \n",
    "n1 = 1200,\n",
    "x1 = 452,\n",
    "s1 = 212\n",
    "* Population 2: Bangalore to Hosur \n",
    "n2 = 800,\n",
    "x2 = 523,\n",
    "s2 = 185"
   ]
  },
  {
   "cell_type": "code",
   "execution_count": 16,
   "metadata": {},
   "outputs": [],
   "source": [
    "import numpy as np\n",
    "import pandas as pd\n",
    "import scipy.stats as st"
   ]
  },
  {
   "cell_type": "code",
   "execution_count": 17,
   "metadata": {},
   "outputs": [
    {
     "name": "stdout",
     "output_type": "stream",
     "text": [
      "The standard error: 8.957375917830698\n",
      "Z test:  -7.926428526759299\n",
      "The critical value:  1.959963984540054\n",
      "Reject Null Hypothesis\n"
     ]
    }
   ],
   "source": [
    "# The two tailed test or two sample z test.\n",
    "\n",
    "# The sample size, sample mean and sample standard deviation for population 1 is given below:\n",
    "sample_size1 = 1200\n",
    "sigma1 = 212\n",
    "sample_mean1 = 452\n",
    "\n",
    "# The sample size, sample mean and sample standard deviation for population 2 is given below:\n",
    "sample_size2 = 800\n",
    "sigma2 = 185\n",
    "sample_mean2 = 523\n",
    "\n",
    "standard_error = np.sqrt((np.square(sigma1)/sample_size1) + (np.square(sigma2)/sample_size2))\n",
    "print(\"The standard error:\", standard_error)\n",
    "\n",
    "z_test = (sample_mean1 - sample_mean2)/standard_error\n",
    "print(\"Z test: \", z_test)\n",
    "\n",
    "# let us take level of significance = 0.05, so for two tailed test alpha/2 is taken for consideration:\n",
    "alpha_by_2 =0.025\n",
    "\n",
    "z_critical = st.norm.ppf(1-alpha_by_2)\n",
    "print(\"The critical value: \", z_critical)\n",
    "\n",
    "if z_test >= - z_critical and z_test <  z_critical:\n",
    "    print(\"Accept Null Hypothesis\")\n",
    "else:\n",
    "    print(\"Reject Null Hypothesis\")\n"
   ]
  },
  {
   "cell_type": "markdown",
   "metadata": {},
   "source": [
    "### Problem Statement 12:\n",
    "Is there evidence to conclude that the number of people preferring Duracell battery is\n",
    "different from the number of people preferring Energizer battery, given the following:\n",
    "Population 1: Duracell\n",
    "n1 = 100\n",
    "x1 = 308\n",
    "s1 = 84\n",
    "Population 2: Energizer\n",
    "n2 = 100\n",
    "x2 = 254\n",
    "s2 = 67"
   ]
  },
  {
   "cell_type": "code",
   "execution_count": 18,
   "metadata": {},
   "outputs": [
    {
     "name": "stdout",
     "output_type": "stream",
     "text": [
      "The standard error: 10.74476616776745\n",
      "Z test:  5.025702668336442\n",
      "The critical value:  1.959963984540054\n",
      "Reject Null Hypothesis\n"
     ]
    }
   ],
   "source": [
    "# The two tailed test or two sample z test.\n",
    "\n",
    "# The sample size, sample mean and sample standard deviation for population 1: Duracell is given below:\n",
    "sample_size1 = 100\n",
    "sigma1 = 84\n",
    "sample_mean1 = 308\n",
    "\n",
    "# The sample size, sample mean and sample standard deviation for population 2: Energizer is given below:\n",
    "sample_size2 = 100\n",
    "sigma2 = 67\n",
    "sample_mean2 = 254\n",
    "\n",
    "standard_error = np.sqrt((np.square(sigma1)/sample_size1) + (np.square(sigma2)/sample_size2))\n",
    "print(\"The standard error:\", standard_error)\n",
    "\n",
    "z_test = (sample_mean1 - sample_mean2)/standard_error\n",
    "print(\"Z test: \", z_test)\n",
    "\n",
    "# let us take level of significance = 0.05, so for two tailed test alpha/2 is taken for consideration:\n",
    "alpha_by_2 =0.025\n",
    "\n",
    "z_critical = st.norm.ppf(1-alpha_by_2)\n",
    "print(\"The critical value: \", z_critical)\n",
    "\n",
    "if z_test >= - z_critical and z_test <  z_critical:\n",
    "    print(\"Accept Null Hypothesis\")\n",
    "else:\n",
    "    print(\"Reject Null Hypothesis\")"
   ]
  },
  {
   "cell_type": "markdown",
   "metadata": {},
   "source": [
    "### Problem Statement 13:\n",
    "Pooled estimate of the population variance\n",
    "Does the data provide sufficient evidence to conclude that average percentage\n",
    "increase in the price of sugar differs when it is sold at two different prices?\n",
    "Population 1: Price of sugar = Rs. 27.50 n1 = 14\n",
    "x1 = 0.317%\n",
    "s1 = 0.12%\n",
    "Population 2: Price of sugar = Rs. 20.00 n2 = 9\n",
    "x2 = 0.21%\n",
    "s2 = 0.11%"
   ]
  },
  {
   "cell_type": "code",
   "execution_count": 19,
   "metadata": {},
   "outputs": [
    {
     "name": "stdout",
     "output_type": "stream",
     "text": [
      "T-test: 2.15355322387416\n",
      "the critical value: 2.079613844727662\n",
      "Reject Null Hypothesis\n"
     ]
    }
   ],
   "source": [
    "# The sample size, sample mean and sample standard deviation for population 1 is given below:\n",
    "sample_size1 = 14\n",
    "sigma1 = 0.12\n",
    "sample_mean1 = 0.317\n",
    "\n",
    "# The sample size, sample mean and sample standard deviation for population 2 is given below:\n",
    "sample_size2 = 9\n",
    "sigma2 = 0.11\n",
    "sample_mean2 = 0.21\n",
    "\n",
    "degree_of_freedom = sample_size1 + sample_size2 - 2\n",
    "\n",
    "pool_estimate = (np.square(sigma1)*(sample_size1 - 1) + np.square(sigma2)*(sample_size2 -1))/degree_of_freedom\n",
    "\n",
    "standard_deviation = np.sqrt(((1/sample_size1) + (1/sample_size2)) * pool_estimate) \n",
    "\n",
    "t_test = (sample_mean1 - sample_mean2)/standard_deviation\n",
    "print(\"T-test:\", t_test)\n",
    "\n",
    "alpha = 0.05\n",
    "t_critical = st.t.ppf(1 - alpha/2, degree_of_freedom)\n",
    "print(\"the critical value:\", t_critical)\n",
    "\n",
    "if t_test <= t_critical:\n",
    "    print(\"Accept Null Hypothesis\")\n",
    "else:\n",
    "    print(\"Reject Null Hypothesis\")"
   ]
  },
  {
   "cell_type": "markdown",
   "metadata": {},
   "source": [
    "### Problem Statement 14:\n",
    "The manufacturers of compact disk players want to test whether a small price\n",
    "reduction is enough to increase sales of their product. Is there evidence that the\n",
    "small price reduction is enough to increase sales of compact disk players?\n",
    "Population 1: Before reduction\n",
    "n1 = 15\n",
    "x1 = Rs. 6598 s1 = Rs. 844\n",
    "Population 2: After reduction n2 = 12\n",
    "x2 = RS. 6870\n",
    "s2 = Rs. 669"
   ]
  },
  {
   "cell_type": "code",
   "execution_count": 20,
   "metadata": {},
   "outputs": [
    {
     "name": "stdout",
     "output_type": "stream",
     "text": [
      "T-test: -0.9098300343990461\n",
      "the critical value: -1.708140761251899\n",
      "Accept Null Hypothesis\n"
     ]
    }
   ],
   "source": [
    "# The sample size, sample mean and sample standard deviation for population 1 is given below:\n",
    "sample_size1 = 15\n",
    "sigma1 = 844\n",
    "sample_mean1 = 6598\n",
    "\n",
    "# The sample size, sample mean and sample standard deviation for population 2 is given below:\n",
    "sample_size2 = 12\n",
    "sigma2 = 669\n",
    "sample_mean2 = 6870\n",
    "\n",
    "degree_of_freedom = sample_size1 + sample_size2 - 2\n",
    "\n",
    "pool_estimate = (np.square(sigma1)*(sample_size1 - 1) + np.square(sigma2)*(sample_size2 -1))/degree_of_freedom\n",
    "\n",
    "standard_deviation = np.sqrt(((1/sample_size1) + (1/sample_size2)) * pool_estimate) \n",
    "\n",
    "t_test = (sample_mean1 - sample_mean2)/standard_deviation\n",
    "print(\"T-test:\", t_test)\n",
    "\n",
    "alpha = 0.05\n",
    "t_critical = st.t.ppf(alpha, degree_of_freedom)\n",
    "print(\"the critical value:\", t_critical)\n",
    "\n",
    "if t_test >= t_critical:\n",
    "    print(\"Accept Null Hypothesis\")\n",
    "else:\n",
    "    print(\"Reject Null Hypothesis\")"
   ]
  },
  {
   "cell_type": "markdown",
   "metadata": {},
   "source": [
    "### Problem Statement 15:\n",
    "Comparisons of two population proportions when the hypothesized difference is zero\n",
    "Carry out a two-tailed test of the equality of banks’ share of the car loan market in\n",
    "1980 and 1995.\n",
    "Population 1: 1980\n",
    "n1 = 1000\n",
    "x1 = 53\n",
    "p 1 = 0.53\n",
    "Population 2: 1985\n",
    "n2 = 100\n",
    "x2 = 43\n",
    "p 2= 0.53"
   ]
  },
  {
   "cell_type": "code",
   "execution_count": 21,
   "metadata": {},
   "outputs": [
    {
     "name": "stdout",
     "output_type": "stream",
     "text": [
      "T-test: 179.89860174445135\n",
      "the critical value: 1.6462425735895423\n",
      "Reject Null Hypothesis\n"
     ]
    }
   ],
   "source": [
    "# The sample size, sample mean and sample standard deviation for population 1 is given below:\n",
    "sample_size1 = 1000\n",
    "sigma1 = 0.53\n",
    "sample_mean1 = 53\n",
    "\n",
    "# The sample size, sample mean and sample standard deviation for population 2 is given below:\n",
    "sample_size2 = 100\n",
    "sigma2 = 0.53\n",
    "sample_mean2 = 43\n",
    "\n",
    "degree_of_freedom = sample_size1 + sample_size2 - 2\n",
    "\n",
    "pool_estimate = (np.square(sigma1)*(sample_size1 - 1) + np.square(sigma2)*(sample_size2 -1))/degree_of_freedom\n",
    "\n",
    "standard_deviation = np.sqrt(((1/sample_size1) + (1/sample_size2)) * pool_estimate) \n",
    "\n",
    "t_test = (sample_mean1 - sample_mean2)/standard_deviation\n",
    "print(\"T-test:\", t_test)\n",
    "\n",
    "alpha = 0.05\n",
    "t_critical = st.t.ppf(1 - alpha, degree_of_freedom)\n",
    "print(\"the critical value:\", t_critical)\n",
    "\n",
    "if t_test <= t_critical:\n",
    "    print(\"Accept Null Hypothesis\")\n",
    "else:\n",
    "    print(\"Reject Null Hypothesis\")"
   ]
  },
  {
   "cell_type": "markdown",
   "metadata": {},
   "source": [
    "### Problem Statement 16:\n",
    "Carry out a one-tailed test to determine whether the population proportion of\n",
    "traveler’s check buyers who buy at least $2500 in checks when sweepstakes prizes\n",
    "are offered as at least 10% higher than the proportion of such buyers when no\n",
    "sweepstakes are on.\n",
    "Population 1: With sweepstakes\n",
    "n1 = 300\n",
    "x1 = 120\n",
    "p = 0.40\n",
    "Population 2: No sweepstakes n2 = 700\n",
    "x2 = 140\n",
    "p 2= 0.20"
   ]
  },
  {
   "cell_type": "code",
   "execution_count": 22,
   "metadata": {},
   "outputs": [
    {
     "name": "stdout",
     "output_type": "stream",
     "text": [
      "T-test: -1051.6477835692021\n",
      "the critical value: 1.6463818766348755\n",
      "Accept Null Hypothesis\n"
     ]
    }
   ],
   "source": [
    "# The sample size, sample mean and sample standard deviation for population 1 is given below:\n",
    "sample_size1 = 300\n",
    "sigma1 = 0.4\n",
    "sample_mean1 = 120\n",
    "\n",
    "# The sample size, sample mean and sample standard deviation for population 2 is given below:\n",
    "sample_size2 = 700\n",
    "sigma2 = 0.2\n",
    "sample_mean2 = 140\n",
    "\n",
    "degree_of_freedom = sample_size1 + sample_size2 - 2\n",
    "\n",
    "pool_estimate = (np.square(sigma1)*(sample_size1 - 1) + np.square(sigma2)*(sample_size2 -1))/degree_of_freedom\n",
    "\n",
    "standard_deviation = np.sqrt(((1/sample_size1) + (1/sample_size2)) * pool_estimate) \n",
    "\n",
    "t_test = (sample_mean1 - sample_mean2)/standard_deviation\n",
    "print(\"T-test:\", t_test)\n",
    "\n",
    "alpha = 0.05\n",
    "t_critical = st.t.ppf(1 - alpha, degree_of_freedom)\n",
    "print(\"the critical value:\", t_critical)\n",
    "\n",
    "if t_test <= t_critical:\n",
    "    print(\"Accept Null Hypothesis\")\n",
    "else:\n",
    "    print(\"Reject Null Hypothesis\")"
   ]
  },
  {
   "cell_type": "markdown",
   "metadata": {},
   "source": [
    "### Problem Statement 18:"
   ]
  },
  {
   "cell_type": "markdown",
   "metadata": {},
   "source": [
    "In a certain town, there are about one million eligible voters. A simple random\n",
    "sample of 10,000 eligible voters was chosen to study the relationship between\n",
    "gender and participation in the last election. The results are summarized in the\n",
    "following 2X2 (read two by two) contingency table:"
   ]
  },
  {
   "cell_type": "markdown",
   "metadata": {},
   "source": [
    " <img src="/Images/p18.jpg" width="500"/> \n "
   ]
  },
  {
   "cell_type": "markdown",
   "metadata": {},
   "source": [
    "We would want to check whether being a man or a woman (columns) is independent of\n",
    "having voted in the last election (rows). In other words, is “gender and voting independent”?"
   ]
  },
  {
   "cell_type": "code",
   "execution_count": 23,
   "metadata": {},
   "outputs": [],
   "source": [
    "import numpy as np\n",
    "import pandas as pd\n",
    "from scipy import stats as st"
   ]
  },
  {
   "cell_type": "code",
   "execution_count": 24,
   "metadata": {},
   "outputs": [],
   "source": [
    "# H0: Gender is independent of whether one votes or not\n",
    "# H1: Gender is not independent of whether one votes or not\n",
    "\n",
    "# let us assume Level of significance = 0.05\n",
    "alpha = 0.05\n",
    "\n",
    "men = [2792, 1486]\n",
    "women = [3591,2131]"
   ]
  },
  {
   "cell_type": "code",
   "execution_count": 25,
   "metadata": {},
   "outputs": [
    {
     "data": {
      "text/html": [
       "<div>\n",
       "<style scoped>\n",
       "    .dataframe tbody tr th:only-of-type {\n",
       "        vertical-align: middle;\n",
       "    }\n",
       "\n",
       "    .dataframe tbody tr th {\n",
       "        vertical-align: top;\n",
       "    }\n",
       "\n",
       "    .dataframe thead th {\n",
       "        text-align: right;\n",
       "    }\n",
       "</style>\n",
       "<table border=\"1\" class=\"dataframe\">\n",
       "  <thead>\n",
       "    <tr style=\"text-align: right;\">\n",
       "      <th></th>\n",
       "      <th>Men</th>\n",
       "      <th>Women</th>\n",
       "    </tr>\n",
       "  </thead>\n",
       "  <tbody>\n",
       "    <tr>\n",
       "      <th>Voted</th>\n",
       "      <td>2792</td>\n",
       "      <td>3591</td>\n",
       "    </tr>\n",
       "    <tr>\n",
       "      <th>Not Voted</th>\n",
       "      <td>1486</td>\n",
       "      <td>2131</td>\n",
       "    </tr>\n",
       "  </tbody>\n",
       "</table>\n",
       "</div>"
      ],
      "text/plain": [
       "            Men  Women\n",
       "Voted      2792   3591\n",
       "Not Voted  1486   2131"
      ]
     },
     "execution_count": 25,
     "metadata": {},
     "output_type": "execute_result"
    }
   ],
   "source": [
    "d = {'Men': men, 'Women': women}\n",
    "data = pd.DataFrame(d, index = ['Voted' , 'Not Voted'] )\n",
    "data"
   ]
  },
  {
   "cell_type": "code",
   "execution_count": 26,
   "metadata": {},
   "outputs": [
    {
     "name": "stdout",
     "output_type": "stream",
     "text": [
      "The Degree of Freedom:  1\n",
      "The Chi-Square Value:  6.552337973968181\n",
      "\n",
      "The Expected Values: \n",
      " [[2730.6474 3652.3526]\n",
      " [1547.3526 2069.6474]]\n",
      "\n",
      "p-value:  0.01047464310091866\n"
     ]
    }
   ],
   "source": [
    "chi, p , dof, exp = st.chi2_contingency(data , correction=True, lambda_=None)\n",
    "\n",
    "print(\"The Degree of Freedom: \", dof)\n",
    "print(\"The Chi-Square Value: \", chi)\n",
    "print(\"\\nThe Expected Values: \\n\", exp)\n",
    "print(\"\\np-value: \", p)"
   ]
  },
  {
   "cell_type": "code",
   "execution_count": 27,
   "metadata": {},
   "outputs": [
    {
     "name": "stdout",
     "output_type": "stream",
     "text": [
      "The Critical value:  3.841458820694124\n"
     ]
    }
   ],
   "source": [
    "critical_value = st.chi2.ppf(1-alpha, df = 1)\n",
    "print(\"The Critical value: \", critical_value)"
   ]
  },
  {
   "cell_type": "code",
   "execution_count": 28,
   "metadata": {},
   "outputs": [
    {
     "name": "stdout",
     "output_type": "stream",
     "text": [
      "Accept H1: It means that Gender and Voting are dependent. \n",
      "Accept H1: It means that Gender and Voting are dependent. \n"
     ]
    }
   ],
   "source": [
    "if chi >= critical_value:\n",
    "    print(\"Accept H1: It means that Gender and Voting are dependent. \")\n",
    "else:\n",
    "    print(\"Accept H0: Gender and voting are independent\")\n",
    "        \n",
    "if p <= alpha:\n",
    "    print(\"Accept H1: It means that Gender and Voting are dependent. \")\n",
    "else:\n",
    "    print(\"Accept H0: Gender and Voting are independent\")"
   ]
  },
  {
   "cell_type": "markdown",
   "metadata": {},
   "source": [
    "### Problem Statement 19:\n",
    "\n",
    "A sample of 100 voters are asked which of four candidates they would vote for in an\n",
    "election. The number supporting each candidate is given below:\n",
    "    \n",
    "<img src= \"Images/p19.jpg\" width=\"500\" />\n",
    "\n",
    "Do the data suggest that all candidates are equally popular? [Chi-Square = 14.96,\n",
    "with 3 df, p 0.05]"
   ]
  },
  {
   "cell_type": "code",
   "execution_count": 29,
   "metadata": {},
   "outputs": [
    {
     "name": "stdout",
     "output_type": "stream",
     "text": [
      "The chi-square:  14.959999999999999\n",
      "The p-value:  0.001851152735284203\n",
      "The critical value: 7.814727903251179\n",
      "Reject null Hypothesis\n",
      "Reject null hypothesis\n"
     ]
    },
    {
     "data": {
      "text/html": [
       "<div>\n",
       "<style scoped>\n",
       "    .dataframe tbody tr th:only-of-type {\n",
       "        vertical-align: middle;\n",
       "    }\n",
       "\n",
       "    .dataframe tbody tr th {\n",
       "        vertical-align: top;\n",
       "    }\n",
       "\n",
       "    .dataframe thead th {\n",
       "        text-align: right;\n",
       "    }\n",
       "</style>\n",
       "<table border=\"1\" class=\"dataframe\">\n",
       "  <thead>\n",
       "    <tr style=\"text-align: right;\">\n",
       "      <th></th>\n",
       "      <th>Higgins</th>\n",
       "      <th>Reardon</th>\n",
       "      <th>White</th>\n",
       "      <th>Charlton</th>\n",
       "    </tr>\n",
       "  </thead>\n",
       "  <tbody>\n",
       "    <tr>\n",
       "      <th>Observed_value</th>\n",
       "      <td>41</td>\n",
       "      <td>19</td>\n",
       "      <td>24</td>\n",
       "      <td>16</td>\n",
       "    </tr>\n",
       "    <tr>\n",
       "      <th>Expected_value</th>\n",
       "      <td>25</td>\n",
       "      <td>25</td>\n",
       "      <td>25</td>\n",
       "      <td>25</td>\n",
       "    </tr>\n",
       "  </tbody>\n",
       "</table>\n",
       "</div>"
      ],
      "text/plain": [
       "                Higgins  Reardon  White  Charlton\n",
       "Observed_value       41       19     24        16\n",
       "Expected_value       25       25     25        25"
      ]
     },
     "execution_count": 29,
     "metadata": {},
     "output_type": "execute_result"
    }
   ],
   "source": [
    "#H0: All candidates are equally popular.\n",
    "#H1: All candidates are not equally popular.\n",
    "\n",
    "observed = [41,19,24,16]\n",
    "expected = [25,25,25,25]\n",
    "\n",
    "data = pd.DataFrame([observed,expected], columns = [\"Higgins\",\"Reardon\", 'White', \"Charlton\"], \n",
    "             index = ['Observed_value', 'Expected_value'])\n",
    "\n",
    "chi ,  p = st.chisquare(f_obs = observed)\n",
    "print(\"The chi-square: \", chi)\n",
    "print(\"The p-value: \", p)\n",
    "\n",
    "critical = st.chi2.ppf(1-alpha, df = 3)\n",
    "print(\"The critical value:\", critical)\n",
    "\n",
    "alpha = 0.05\n",
    "\n",
    "if chi >= critical:\n",
    "    print(\"Reject null Hypothesis\")\n",
    "else:\n",
    "    print(\"All candidates are not equally popular\")\n",
    "    \n",
    "if p < alpha:\n",
    "    print(\"Reject null hypothesis\")\n",
    "else:\n",
    "    print(\"All candidates are not equally popular\")\n",
    "    \n",
    "data"
   ]
  },
  {
   "cell_type": "markdown",
   "metadata": {},
   "source": [
    "The above solution suggest that that **all candidates are not equally popular.**\n",
    "\n",
    "--------"
   ]
  },
  {
   "cell_type": "markdown",
   "metadata": {},
   "source": [
    "### Problem Statement 20:\n",
    "\n",
    "Children of three ages are asked to indicate their preference for three photographs of\n",
    "adults. Do the data suggest that there is a significant relationship between age and\n",
    "photograph preference? What is wrong with this study? [Chi-Square = 29.6, with 4\n",
    "df: p < 0.05].\n",
    "\n",
    "<img src =\"Images/p20.jpg\" width=\"500\"/>  "
   ]
  },
  {
   "cell_type": "code",
   "execution_count": 30,
   "metadata": {},
   "outputs": [
    {
     "name": "stdout",
     "output_type": "stream",
     "text": [
      "The chi-square:  29.603174603174608\n",
      "The p-val: 5.894582174262606e-06\n",
      "The degree of freedom: 4\n",
      "The expected value: [[12. 18. 30.]\n",
      " [14. 21. 35.]\n",
      " [14. 21. 35.]]\n"
     ]
    }
   ],
   "source": [
    "# H0: There is no significant relationship betweeen age and photograph preference.\n",
    "# H1: There is significant relationship betweenn age and photgraph.\n",
    "\n",
    "data = {'A': [18,2,20], 'B': [22,28,10], 'C': [20,40,40], 'Age_of_child': ['5-6 years', '7-8 years', '9-10 years']}\n",
    "\n",
    "data = pd.DataFrame(data)\n",
    "\n",
    "chi,p ,dof, exp  = st.chi2_contingency(data.iloc[:,:3])\n",
    "\n",
    "print('The chi-square: ',chi)\n",
    "print(\"The p-val:\", p)\n",
    "print('The degree of freedom:', dof)\n",
    "print('The expected value:', exp)"
   ]
  },
  {
   "cell_type": "code",
   "execution_count": 31,
   "metadata": {},
   "outputs": [
    {
     "name": "stdout",
     "output_type": "stream",
     "text": [
      "The critical value: 9.487729036781154\n",
      "Reject null Hypothesis\n",
      "Reject null hypothesis\n"
     ]
    }
   ],
   "source": [
    "critical = st.chi2.ppf(1-alpha, df = dof)\n",
    "print('The critical value:', critical)\n",
    "\n",
    "if chi >= critical:\n",
    "    print(\"Reject null Hypothesis\")\n",
    "else:\n",
    "    print(\"There is no significant relationship betweeen age and photograph preference.\")\n",
    "    \n",
    "if p < alpha:\n",
    "    print(\"Reject null hypothesis\")\n",
    "else:\n",
    "    print(\"There is no significant relationship betweeen age and photograph preference.\")"
   ]
  },
  {
   "cell_type": "markdown",
   "metadata": {},
   "source": [
    "From above solution it is clear that **there is a significant relationship between age and photograph preference.**\n",
    "\n",
    "--------"
   ]
  },
  {
   "cell_type": "markdown",
   "metadata": {},
   "source": [
    "### Problem Statement 21:\n",
    "\n",
    "A study of conformity using the Asch paradigm involved two conditions: one where\n",
    "one confederate supported the true judgement and another where no confederate\n",
    "gave the correct response.\n",
    "\n",
    "<img src = \"Images/p21.jpg\" width =\"500\" />\n",
    "\n",
    "Is there a significant difference between the \"support\" and \"no support\" conditions in the\n",
    "frequency with which individuals are likely to conform? [Chi-Square = 19.87, with 1 df:\n",
    "p < 0.05]."
   ]
  },
  {
   "cell_type": "code",
   "execution_count": 32,
   "metadata": {},
   "outputs": [],
   "source": [
    "def independence_of_variable(data, alpha):\n",
    "    chi,p ,dof, exp  = st.chi2_contingency(data)\n",
    "\n",
    "    print('The chi-square: ',chi)\n",
    "    print(\"The p-val:\", p)\n",
    "    print('The degree of freedom:', dof)\n",
    "    print('The expected value:', exp)\n",
    "\n",
    "    critical = st.chi2.ppf(1-alpha, df = dof)\n",
    "    print('The critical value:', critical)\n",
    "\n",
    "    if chi >= critical:\n",
    "        print(\"Reject null Hypothesis\")\n",
    "    else:\n",
    "        print(\"Null Hypothesis is true\")\n",
    "\n",
    "    if p < alpha:\n",
    "        print(\"Reject null hypothesis\")\n",
    "    else:\n",
    "        print(\"Null Hypothesis is true.\")"
   ]
  },
  {
   "cell_type": "code",
   "execution_count": 33,
   "metadata": {},
   "outputs": [
    {
     "name": "stdout",
     "output_type": "stream",
     "text": [
      "The chi-square:  18.10344827586207\n",
      "The p-val: 2.092221924065813e-05\n",
      "The degree of freedom: 1\n",
      "The expected value: [[29. 29.]\n",
      " [21. 21.]]\n",
      "The critical value: 3.841458820694124\n",
      "Reject null Hypothesis\n",
      "Reject null hypothesis\n"
     ]
    }
   ],
   "source": [
    "# H0: There is no relationship between conformity and support for a judgement\n",
    "# H1: There is a relationship between conformity and support for a judgement.\n",
    "\n",
    "data = pd.DataFrame([[18,40], [32,10]], columns = ['Support', 'No Support'], index = ['Conform', 'Not conform'])\n",
    "\n",
    "alpha = 0.05\n",
    "\n",
    "independence_of_variable(data, alpha)\n",
    "\n",
    "#chi, p, dof ,exp = st.chi2_contingency(data)"
   ]
  },
  {
   "cell_type": "markdown",
   "metadata": {},
   "source": [
    "### Problem Statement 22:\n",
    "\n",
    "We want to test whether short people differ with respect to their leadership qualities\n",
    "(Genghis Khan, Adolf Hitler and Napoleon were all stature-deprived, and how many midget\n",
    "MP's are there?) The following table shows the frequencies with which 43 short people and\n",
    "52 tall people were categorized as \"leaders\", \"followers\" or as \"unclassifiable\". Is there a\n",
    "relationship between height and leadership qualities?\n",
    "[Chi-Square = 10.71, with 2 df: p < 0.01].\n",
    " \n",
    "<img src = \"Images/p22.jpg\" width = \"500\" />"
   ]
  },
  {
   "cell_type": "code",
   "execution_count": 34,
   "metadata": {},
   "outputs": [
    {
     "name": "stdout",
     "output_type": "stream",
     "text": [
      "The chi-square:  10.712198008709638\n",
      "The p-val: 0.004719280137040844\n",
      "The degree of freedom: 2\n",
      "The expected value: [[19.91578947 24.08421053]\n",
      " [16.29473684 19.70526316]\n",
      " [ 6.78947368  8.21052632]]\n",
      "The critical value: 9.21034037197618\n",
      "Reject null Hypothesis\n",
      "Reject null hypothesis\n"
     ]
    }
   ],
   "source": [
    "# H0: There is no relationship between Height and Leadership qualities.\n",
    "# H1: There is a relationship between Height and Leadership qualities.\n",
    "\n",
    "data = pd.DataFrame([[12,32],[22,14],[9,6]], columns = ['Short', 'Tall'], index = ['Leader', 'Follower', 'Unclassified'])\n",
    "\n",
    "alpha = 0.01\n",
    "\n",
    "independence_of_variable(data, alpha)"
   ]
  },
  {
   "cell_type": "markdown",
   "metadata": {},
   "source": [
    "### Problem Statement 23:\n",
    "\n",
    "Each respondent in the Current Population Survey of March 1993 was classified as\n",
    "employed, unemployed, or outside the labor force. The results for men in California age 35-\n",
    "44 can be cross-tabulated by marital status, as follows:\n",
    "    \n",
    "<img src =\"Images/p23.jpg\" width = \"500\" />  \n",
    "\n",
    "Men of different marital status seem to have different distributions of labor force status. Or is\n",
    "this just chance variation? (you may assume the table results from a simple random\n",
    "sample.)"
   ]
  },
  {
   "cell_type": "code",
   "execution_count": 35,
   "metadata": {},
   "outputs": [
    {
     "name": "stdout",
     "output_type": "stream",
     "text": [
      "The chi-square:  31.61310319407798\n",
      "The p-val: 2.2949883042859918e-06\n",
      "The degree of freedom: 4\n",
      "The expected value: [[654.06331471 109.2886406  132.64804469]\n",
      " [ 67.88826816  11.34357542  13.76815642]\n",
      " [ 62.04841713  10.36778399  12.58379888]]\n",
      "The critical value: 9.487729036781154\n",
      "Reject null Hypothesis\n",
      "Reject null hypothesis\n"
     ]
    }
   ],
   "source": [
    "# H0: There is no relationship between relationship status of a person with employment status.\n",
    "# H1: There is a relationship between relationship status and employment status.\n",
    "\n",
    "data = pd.DataFrame([[679,103,114], [63,10,20], [42,18,25]], \n",
    "                    columns = ['Married', 'Widowed, Divorced or separated', 'Never Married'], \n",
    "                    index = ['Employed', 'Unemployed', 'Not in labor force'])\n",
    "\n",
    "alpha = 0.05\n",
    "\n",
    "independence_of_variable(data,alpha)"
   ]
  },
  {
   "cell_type": "code",
   "execution_count": null,
   "metadata": {},
   "outputs": [],
   "source": []
  }
 ],
 "metadata": {
  "kernelspec": {
   "display_name": "Python 3",
   "language": "python",
   "name": "python3"
  },
  "language_info": {
   "codemirror_mode": {
    "name": "ipython",
    "version": 3
   },
   "file_extension": ".py",
   "mimetype": "text/x-python",
   "name": "python",
   "nbconvert_exporter": "python",
   "pygments_lexer": "ipython3",
   "version": "3.8.5"
  }
 },
 "nbformat": 4,
 "nbformat_minor": 2
}
